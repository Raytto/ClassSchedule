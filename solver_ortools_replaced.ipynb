{
 "cells": [
  {
   "cell_type": "code",
   "execution_count": null,
   "id": "1b2cc559-add2-4e36-b781-6ab2094d6cb6",
   "metadata": {
    "editable": true,
    "slideshow": {
     "slide_type": ""
    },
    "tags": []
   },
   "outputs": [],
   "source": []
  },
  {
   "cell_type": "markdown",
   "id": "49120edc-ae8d-4505-a29a-bb8ff8851015",
   "metadata": {},
   "source": [
    "# 1. 数据设置"
   ]
  },
  {
   "cell_type": "markdown",
   "id": "946db91e-6e45-4e7d-8fe8-157f4965c078",
   "metadata": {},
   "source": [
    "## 1.1 时空信息"
   ]
  },
  {
   "cell_type": "code",
   "execution_count": 1,
   "id": "92eb0179-f7ac-406b-8219-519d5671ab2d",
   "metadata": {},
   "outputs": [],
   "source": [
    "# 班级序号\n",
    "all_class_indexes = [i for i in range(1, 11)]\n",
    "# all_class_indexes = [1]\n",
    "# 天序号\n",
    "all_days_indexes = [i for i in range(1, 8)]\n",
    "# 每天天内的课程序号\n",
    "all_course_indexes = [i for i in range(0, 14)]"
   ]
  },
  {
   "cell_type": "markdown",
   "id": "a7d6a0a4-498a-4b1e-85a4-b350ea10f983",
   "metadata": {},
   "source": [
    "## 1.2 时间化分"
   ]
  },
  {
   "cell_type": "code",
   "execution_count": 2,
   "id": "876045aa-aa10-4fcf-8c6f-f6f7d4836e54",
   "metadata": {},
   "outputs": [],
   "source": [
    "all_section = [\"dawn\", \"morning\", \"afternoon\", \"evening\"]\n",
    "indexes_by_section = {\n",
    "    \"dawn\": [0],\n",
    "    \"morning\": [1, 2, 3, 4, 5],\n",
    "    \"afternoon\": [6, 7, 8, 9],\n",
    "    \"evening\": [10, 11, 12, 13],\n",
    "}\n",
    "max_section_len = max([len(x) for x in indexes_by_section.values()])\n",
    "# time用(day,index)表示\n",
    "time_by_section = {\n",
    "    \"dawn\": [(the_day, 0) for the_day in range(1, 7)],  # 星期1到6都有早自习\n",
    "    \"morning\": [\n",
    "        (the_day, the_index)\n",
    "        for the_day in range(1, 6)\n",
    "        for the_index in indexes_by_section[\"morning\"]\n",
    "    ],\n",
    "    \"afternoon\": [\n",
    "        (the_day, the_index)\n",
    "        for the_day in range(1, 6)\n",
    "        for the_index in indexes_by_section[\"afternoon\"]\n",
    "    ],\n",
    "    \"evening\": [\n",
    "        (the_day, the_index)\n",
    "        for the_day in [1, 2, 3, 4, 5, 7]\n",
    "        for the_index in indexes_by_section[\"evening\"]\n",
    "    ],  # 周天有晚自习\n",
    "}"
   ]
  },
  {
   "cell_type": "code",
   "execution_count": 3,
   "id": "f6974505-3b68-4068-846d-27f76180ae89",
   "metadata": {},
   "outputs": [
    {
     "data": {
      "text/plain": [
       "5"
      ]
     },
     "execution_count": 3,
     "metadata": {},
     "output_type": "execute_result"
    }
   ],
   "source": [
    "# time_by_section[\"evening\"]\n",
    "max_section_len"
   ]
  },
  {
   "cell_type": "markdown",
   "id": "f0593eb7-9414-4de1-a9ba-5b92bd64ef19",
   "metadata": {},
   "source": [
    "## 1.3 课程信息"
   ]
  },
  {
   "cell_type": "code",
   "execution_count": 4,
   "id": "0b9e7c8b-05e7-4e33-a405-1bbd44c300d2",
   "metadata": {},
   "outputs": [],
   "source": [
    "# 课程类型\n",
    "all_subjects = [\n",
    "    \"语文\",\n",
    "    \"美术\",\n",
    "    \"政治\",\n",
    "    \"地理\",\n",
    "    \"英语\",\n",
    "    \"心理\",\n",
    "    \"生物\",\n",
    "    \"体育\",\n",
    "    \"化学\",\n",
    "    \"音乐\",\n",
    "    \"历史\",\n",
    "    \"数学\",\n",
    "    \"物理\",\n",
    "    \"劳动\",\n",
    "    \"班会\",\n",
    "    \"\",  # 无课\n",
    "]"
   ]
  },
  {
   "cell_type": "code",
   "execution_count": 5,
   "id": "8bf999cb-060a-49b5-93f8-0a38e8d05f13",
   "metadata": {},
   "outputs": [],
   "source": [
    "# 一些不需要老师的课程\n",
    "no_teacher_subjects = [\"劳动\", \"\"]"
   ]
  },
  {
   "cell_type": "markdown",
   "id": "2a632128-4620-4453-a79f-9f70131feb2f",
   "metadata": {},
   "source": [
    "## 1.4 教师信息"
   ]
  },
  {
   "cell_type": "code",
   "execution_count": 6,
   "id": "e8ffb26f-b39e-4586-ab54-99f502bc6160",
   "metadata": {},
   "outputs": [],
   "source": [
    "# 教师信息：名字：负责的科目和科目对应的班级\n",
    "teachers_duties = {\n",
    "    \"teacher_28\": {\"语文\": [1, 3]},\n",
    "    \"teacher_59\": {\"数学\": [1, 7]},\n",
    "    \"teacher_18\": {\"英语\": [1, 9]},\n",
    "    \"teacher_15\": {\"政治\": [1, 3]},\n",
    "    \"teacher_6\": {\"历史\": [1, 4, 6]},\n",
    "    \"teacher_46\": {\"地理\": [1, 2, 6], \"班会\": [1]},\n",
    "    \"teacher_50\": {\"美术\": [1, 2, 8, 9, 10]},\n",
    "    \"teacher_51\": {\"化学\": [1, 2]},\n",
    "    \"teacher_13\": {\"物理\": [1, 2, 4]},\n",
    "    \"teacher_39\": {\"生物\": [1, 9, 10]},\n",
    "    \"teacher_29\": {\"心理\": [1, 2, 8, 9, 10]},\n",
    "    \"teacher_52\": {\"音乐\": [1, 2, 9, 10]},\n",
    "    \"teacher_22\": {\"体育\": [1, 2, 8, 9, 10]},\n",
    "    \"teacher_24\": {\"英语\": [2, 6]},\n",
    "    \"teacher_53\": {\"数学\": [2]},\n",
    "    \"teacher_2\": {\"语文\": [2], \"班会\": [2]},\n",
    "    \"teacher_35\": {\"生物\": [2, 4, 8]},\n",
    "    \"teacher_57\": {\"历史\": [2, 3, 7]},\n",
    "    \"teacher_37\": {\"政治\": [2, 7]},\n",
    "    \"teacher_26\": {\"英语\": [3, 7]},\n",
    "    \"teacher_32\": {\"数学\": [3], \"班会\": [3]},\n",
    "    \"teacher_54\": {\"地理\": [3, 4, 5]},\n",
    "    \"teacher_20\": {\"物理\": [3]},\n",
    "    \"teacher_1\": {\"音乐\": [3, 4, 5, 6, 7, 8]},\n",
    "    \"teacher_23\": {\"生物\": [3, 6], \"班会\": [6]},\n",
    "    \"teacher_42\": {\"化学\": [3, 9]},\n",
    "    \"teacher_43\": {\"美术\": [3, 4, 5, 6, 7]},\n",
    "    \"teacher_12\": {\"体育\": [3, 4, 5, 6, 7]},\n",
    "    \"teacher_44\": {\"心理\": [3, 4, 5, 6, 7]},\n",
    "    \"teacher_7\": {\"语文\": [4, 8]},\n",
    "    \"teacher_8\": {\"数学\": [4, 10]},\n",
    "    \"teacher_16\": {\"英语\": [4, 10]},\n",
    "    \"teacher_55\": {\"化学\": [4, 7], \"班会\": [4]},\n",
    "    \"teacher_33\": {\"政治\": [4, 5, 10]},\n",
    "    \"teacher_34\": {\"语文\": [5, 9]},\n",
    "    \"teacher_19\": {\"数学\": [5, 6]},\n",
    "    \"teacher_40\": {\"物理\": [5, 7], \"班会\": [7]},\n",
    "    \"teacher_41\": {\"英语\": [5, 8]},\n",
    "    \"teacher_45\": {\"生物\": [5, 7]},\n",
    "    \"teacher_25\": {\"化学\": [5, 6], \"班会\": [5]},\n",
    "    \"teacher_30\": {\"历史\": [5, 8, 9, 10]},\n",
    "    \"teacher_9\": {\"语文\": [6]},\n",
    "    \"teacher_27\": {\"物理\": [6, 9]},\n",
    "    \"teacher_17\": {\"政治\": [6]},\n",
    "    \"teacher_21\": {\"语文\": [7, 10]},\n",
    "    \"teacher_10\": {\"地理\": [7, 8, 9, 10]},\n",
    "    \"teacher_47\": {\"数学\": [8], \"班会\": [8]},\n",
    "    \"teacher_14\": {\"政治\": [8, 9]},\n",
    "    \"teacher_36\": {\"物理\": [8, 10], \"班会\": [10]},\n",
    "    \"teacher_31\": {\"化学\": [8, 10]},\n",
    "    \"teacher_38\": {\"数学\": [9], \"班会\": [9]},\n",
    "}"
   ]
  },
  {
   "cell_type": "markdown",
   "id": "83a96d56-f572-4615-824d-d092e18ce16f",
   "metadata": {},
   "source": [
    "## 1.5 班级信息"
   ]
  },
  {
   "cell_type": "code",
   "execution_count": 7,
   "id": "66df5b84-eae4-4650-810a-3c2b1ab421e8",
   "metadata": {},
   "outputs": [],
   "source": [
    "# 班级分了物理和历史两个方向\n",
    "all_foucs = [\"physics\", \"history\"]\n",
    "# 方向和班级序号的关系\n",
    "class_foucs_info = {\"physics\": [3, 4, 5, 6, 7, 8, 9, 10], \"history\": [1, 2]}"
   ]
  },
  {
   "cell_type": "markdown",
   "id": "9245889c-16b1-4495-a284-b786bb8b96bb",
   "metadata": {},
   "source": [
    "## 1.6 各班的科目数量要求\n",
    "针对 \"对某种方向的班级，某时间集合内，要求某科目数量刚好为n\" 这种需求"
   ]
  },
  {
   "cell_type": "code",
   "execution_count": 8,
   "id": "54d0dbc3-1fbf-46b5-8a80-0affb52fd26b",
   "metadata": {},
   "outputs": [],
   "source": [
    "# 用一个数据结构描述,每一个要求为(foucs,[(day1,index1),(day2,index2)], aim_subject, aim_num)\n",
    "subject_num_requirements = []"
   ]
  },
  {
   "cell_type": "markdown",
   "id": "5b607b52-45d7-40cc-a88a-079dbe70f1b9",
   "metadata": {},
   "source": [
    "### 1.6.1 早自习要求\n",
    "每班 周一到周六 ，早自习课程要求 语文英语各3节"
   ]
  },
  {
   "cell_type": "code",
   "execution_count": 9,
   "id": "486df7c9-5ab3-402d-a60a-3687d7653d05",
   "metadata": {},
   "outputs": [],
   "source": [
    "morning_time_set = [(the_day, 0) for the_day in range(1, 7)]\n",
    "for the_foucs in all_foucs:\n",
    "    for the_subject in [\"语文\", \"英语\"]:\n",
    "        subject_num_requirements.append((the_foucs, morning_time_set, the_subject, 3))"
   ]
  },
  {
   "cell_type": "markdown",
   "id": "3683f094-e5bf-4342-aaa2-aca46f2e59f4",
   "metadata": {},
   "source": [
    "### 1.6.2 正课数量要求"
   ]
  },
  {
   "cell_type": "code",
   "execution_count": 10,
   "id": "04e375d7-c9ad-4fc7-97c9-cd6c866cbe00",
   "metadata": {},
   "outputs": [],
   "source": [
    "# 正课程数量要求\n",
    "subject_requirement_in_regular = {\n",
    "    \"physics\": {\n",
    "        \"语文\": 6,\n",
    "        \"数学\": 7,\n",
    "        \"英语\": 8,\n",
    "        \"物理\": 5,\n",
    "        \"化学\": 4,\n",
    "        \"生物\": 3,\n",
    "        \"政治\": 2,\n",
    "        \"历史\": 2,\n",
    "        \"地理\": 2,\n",
    "        \"体育\": 2,\n",
    "        \"心理\": 1,\n",
    "        \"劳动\": 1,\n",
    "        \"美术\": 1,\n",
    "        \"音乐\": 1,\n",
    "    },\n",
    "    \"history\": {\n",
    "        \"语文\": 6,\n",
    "        \"数学\": 7,\n",
    "        \"英语\": 8,\n",
    "        \"物理\": 2,\n",
    "        \"化学\": 2,\n",
    "        \"生物\": 2,\n",
    "        \"政治\": 4,\n",
    "        \"历史\": 4,\n",
    "        \"地理\": 4,\n",
    "        \"体育\": 2,\n",
    "        \"心理\": 1,\n",
    "        \"劳动\": 1,\n",
    "        \"美术\": 1,\n",
    "        \"音乐\": 1,\n",
    "    },\n",
    "}\n",
    "\n",
    "for the_foucs in subject_requirement_in_regular.keys():\n",
    "    for the_subject, the_num in subject_requirement_in_regular[the_foucs].items():\n",
    "        subject_num_requirements.append(\n",
    "            (\n",
    "                the_foucs,\n",
    "                (time_by_section[\"morning\"] + time_by_section[\"afternoon\"]),\n",
    "                the_subject,\n",
    "                the_num,\n",
    "            )\n",
    "        )"
   ]
  },
  {
   "cell_type": "markdown",
   "id": "e20a3ac7-905f-4580-b0c3-2096a85d3923",
   "metadata": {},
   "source": [
    "### 1.6.3 晚自习数量要求"
   ]
  },
  {
   "cell_type": "code",
   "execution_count": 11,
   "id": "e5cad544-b005-46f6-8f84-1495ac3fc087",
   "metadata": {},
   "outputs": [],
   "source": [
    "### 晚自数要求\n",
    "subject_num_in_evening = {\n",
    "    \"physics\": {\n",
    "        \"语文\": 3,\n",
    "        \"数学\": 4,\n",
    "        \"英语\": 3,\n",
    "        \"物理\": 4,\n",
    "        \"化学\": 3,\n",
    "        \"生物\": 3,\n",
    "        \"政治\": 1,\n",
    "        \"历史\": 1,\n",
    "        \"地理\": 1,\n",
    "        \"班会\": 1,\n",
    "    },\n",
    "    \"history\": {\n",
    "        \"语文\": 3,\n",
    "        \"数学\": 4,\n",
    "        \"英语\": 3,\n",
    "        \"物理\": 1,\n",
    "        \"化学\": 1,\n",
    "        \"生物\": 1,\n",
    "        \"政治\": 3,\n",
    "        \"历史\": 4,\n",
    "        \"地理\": 3,\n",
    "        \"班会\": 1,\n",
    "    },\n",
    "}\n",
    "for the_foucs in subject_num_in_evening.keys():\n",
    "    for the_subject, the_num in subject_num_in_evening[the_foucs].items():\n",
    "        subject_num_requirements.append(\n",
    "            (the_foucs, time_by_section[\"evening\"], the_subject, the_num)\n",
    "        )"
   ]
  },
  {
   "cell_type": "code",
   "execution_count": 12,
   "id": "a98f096c-f901-4a9b-b77c-812f27d3c0a4",
   "metadata": {},
   "outputs": [],
   "source": [
    "# time_by_section[\"evening\"]"
   ]
  },
  {
   "cell_type": "markdown",
   "id": "8f01cb2e-911f-4f59-9891-dd45c3a44149",
   "metadata": {},
   "source": [
    "### 1.6.4 休息时间要求"
   ]
  },
  {
   "cell_type": "code",
   "execution_count": 13,
   "id": "14423408-bcd2-465e-8b7a-3ac2f9a73316",
   "metadata": {},
   "outputs": [],
   "source": [
    "rest_time_set = []\n",
    "for the_index in (\n",
    "    indexes_by_section[\"morning\"]\n",
    "    + indexes_by_section[\"afternoon\"]\n",
    "    + indexes_by_section[\"evening\"]\n",
    "):\n",
    "    rest_time_set.append((6, the_index))\n",
    "for the_index in (\n",
    "    indexes_by_section[\"dawn\"]\n",
    "    + indexes_by_section[\"morning\"]\n",
    "    + indexes_by_section[\"afternoon\"]\n",
    "):\n",
    "    rest_time_set.append((7, the_index))\n",
    "for the_foucs in all_foucs:\n",
    "    subject_num_requirements.append((the_foucs, rest_time_set, \"\", len(rest_time_set)))"
   ]
  },
  {
   "cell_type": "code",
   "execution_count": 14,
   "id": "dcb2e3bd-b6e9-49ea-89c9-ce4791751af5",
   "metadata": {},
   "outputs": [],
   "source": [
    "# rest_time_set"
   ]
  },
  {
   "cell_type": "markdown",
   "id": "c63b4e07-313d-4814-a4fc-4250fdca9a1c",
   "metadata": {},
   "source": [
    "### 1.6.5 特殊课程要求"
   ]
  },
  {
   "cell_type": "code",
   "execution_count": 15,
   "id": "b2175ed3-9232-4ee9-a2ac-d38611e50042",
   "metadata": {},
   "outputs": [],
   "source": [
    "for the_foucs in all_foucs:\n",
    "    # 星期天第一节晚自习上班会\n",
    "    subject_num_requirements.append((the_foucs, [(7, 10)], \"班会\", 1))\n",
    "    # 星期一下午最后一节上劳动\n",
    "    subject_num_requirements.append((the_foucs, [(1, 9)], \"劳动\", 1))"
   ]
  },
  {
   "cell_type": "code",
   "execution_count": 16,
   "id": "9e575245-72a8-4686-8b10-30f8e2dd7744",
   "metadata": {},
   "outputs": [],
   "source": [
    "# subject_num_requirements"
   ]
  },
  {
   "cell_type": "code",
   "execution_count": 17,
   "id": "9dad487d-afa5-4b16-852a-1861664ff45a",
   "metadata": {},
   "outputs": [
    {
     "data": {
      "text/plain": [
       "23"
      ]
     },
     "execution_count": 17,
     "metadata": {},
     "output_type": "execute_result"
    }
   ],
   "source": [
    "len(rest_time_set)"
   ]
  },
  {
   "cell_type": "markdown",
   "id": "5c6411e2-85c4-4051-8294-6c7f05e61dad",
   "metadata": {},
   "source": [
    "## 1.2 特殊信息"
   ]
  },
  {
   "cell_type": "markdown",
   "id": "404e8b91-59af-4993-9e9e-ffed870ed4cc",
   "metadata": {},
   "source": [
    "### 1.2.1 教研时间段"
   ]
  },
  {
   "cell_type": "code",
   "execution_count": 18,
   "id": "902a6939-a358-4186-8be7-f2b8b132be0e",
   "metadata": {},
   "outputs": [],
   "source": [
    "jiaoyan_day_section = {\n",
    "    \"语文\": (4, \"afternoon\"),\n",
    "    \"数学\": (3, \"morning\"),\n",
    "    \"英语\": (1, \"afternoon\"),\n",
    "    \"物理\": (4, \"afternoon\"),\n",
    "    \"化学\": (2, \"morning\"),\n",
    "    \"生物\": (2, \"morning\"),\n",
    "    \"政治\": (5, \"morning\"),\n",
    "    \"历史\": (5, \"morning\"),\n",
    "    \"地理\": (4, \"afternoon\"),\n",
    "    \"体育\": (1, \"morning\"),\n",
    "    \"音乐\": (1, \"morning\"),\n",
    "    \"美术\": (1, \"morning\"),\n",
    "    \"心理\": (1, \"morning\"),\n",
    "}"
   ]
  },
  {
   "cell_type": "markdown",
   "id": "bfee9c21-7c52-4e8f-a342-b7f1474c1823",
   "metadata": {},
   "source": [
    "# 2. 预处理"
   ]
  },
  {
   "cell_type": "code",
   "execution_count": 19,
   "id": "e28a5fca-8ab6-46fa-9433-d4741c22e05c",
   "metadata": {},
   "outputs": [],
   "source": [
    "# 生成一个通过班级和课程找到老师的映射表，方便后续查询\n",
    "# 需要要求一个班的同一科目只有一个老师负责\n",
    "map_class_subject_to_teacher = {}  # by (the_class_index,the_subject)\n",
    "\n",
    "for the_teacher, duties in teachers_duties.items():\n",
    "    for the_subject, the_classes in duties.items():\n",
    "        for the_class_index in the_classes:\n",
    "            map_class_subject_to_teacher[(the_class_index, the_subject)] = the_teacher\n",
    "\n",
    "# 一些课程不需要老师\n",
    "for the_class_index in all_class_indexes:\n",
    "    for the_subject in no_teacher_subjects:\n",
    "        map_class_subject_to_teacher[(the_class_index, the_subject)] = \"\""
   ]
  },
  {
   "cell_type": "code",
   "execution_count": 20,
   "id": "dec3d849-767d-4e05-8698-c7e1ebf92a18",
   "metadata": {},
   "outputs": [],
   "source": [
    "# str(map_class_subject_to_teacher)"
   ]
  },
  {
   "cell_type": "code",
   "execution_count": 21,
   "id": "fc992e0d-6f91-4b62-ba55-f85cdb3bf5b0",
   "metadata": {},
   "outputs": [],
   "source": [
    "# 生成一些方便后续使用的变量\n",
    "all_teachers = teachers_duties.keys()\n",
    "classes_of_teacher = {}\n",
    "subjects_of_teacher = {}\n",
    "for the_teacher, duties in teachers_duties.items():\n",
    "    classes_of_teacher[the_teacher] = []\n",
    "    subjects_of_teacher[the_teacher] = []\n",
    "    for the_subject, the_classes in duties.items():\n",
    "        classes_of_teacher[the_teacher] = list(\n",
    "            set(classes_of_teacher[the_teacher]) | set(the_classes)\n",
    "        )\n",
    "        if the_subject not in subjects_of_teacher[the_teacher]:\n",
    "            subjects_of_teacher[the_teacher].append(the_subject)"
   ]
  },
  {
   "cell_type": "code",
   "execution_count": 22,
   "id": "d5bdd1b4-c9b9-450b-9f96-2f7fdf783c16",
   "metadata": {},
   "outputs": [],
   "source": [
    "# classes_of_teacher"
   ]
  },
  {
   "cell_type": "markdown",
   "id": "506f0b56-4bc0-456a-8aa8-eebf52732095",
   "metadata": {},
   "source": [
    "# 3. 设置模型\n",
    "口语课是单周口语，双周英语，单独用一个变量来记"
   ]
  },
  {
   "cell_type": "markdown",
   "id": "36709188-43ad-45d0-827b-af0f2a293d14",
   "metadata": {},
   "source": [
    "## 3.1 求解目标变量"
   ]
  },
  {
   "cell_type": "code",
   "execution_count": 23,
   "id": "b1103258-46b1-4388-a16d-4dd71b8e5fa9",
   "metadata": {},
   "outputs": [],
   "source": [
    "from ortools.sat.python import cp_model\n",
    "\n",
    "# 创建模型\n",
    "model = cp_model.CpModel()\n",
    "\n",
    "# 创建目标变量：每班每节课的科目\n",
    "# model.course_vars = Var(\n",
    "#     all_class_indexes,\n",
    "#     all_days_indexes,\n",
    "#     all_course_indexes,\n",
    "#     all_subjects,\n",
    "#     domain=Binary,\n",
    "# )\n",
    "course_vars = {}\n",
    "for the_class in all_class_indexes:\n",
    "    for the_day in all_days_indexes:\n",
    "        for the_index in all_course_indexes:\n",
    "            for the_subject in all_subjects:\n",
    "                course_vars[the_class,the_day,the_index,the_subject] = model.NewBoolVar(f'course_vars{the_class}_{the_day}_{the_index}_{the_subject}')\n",
    "                \n",
    "# 创建目标变量：每班每节课是否是外教课\n",
    "# model.is_spoken_course = Var(\n",
    "#     model.all_class_indexes,\n",
    "#     model.all_days_indexes,\n",
    "#     model.all_course_indexes,\n",
    "#     domain=Binary,\n",
    "# )\n",
    "is_spoken_course = {}\n",
    "for the_class in all_class_indexes:\n",
    "    for the_day in all_days_indexes:\n",
    "        for the_index in all_course_indexes:\n",
    "            is_spoken_course[the_class,the_day,the_index] = model.NewBoolVar(f'is_spoken_course{the_class}_{the_day}_{the_index}')\n"
   ]
  },
  {
   "cell_type": "markdown",
   "id": "ed032190-1330-4df1-8bcd-726bd46b4539",
   "metadata": {},
   "source": [
    "## 3.1 预设一些通用约束函数"
   ]
  },
  {
   "cell_type": "markdown",
   "id": "cbd4bea9-ccf1-47a5-8d8a-0df62b7b52c9",
   "metadata": {},
   "source": [
    "### 3.1.1 逻辑与约束"
   ]
  },
  {
   "cell_type": "code",
   "execution_count": 24,
   "id": "b7d1d572-7de3-4892-bfce-c145c0f12ac0",
   "metadata": {},
   "outputs": [],
   "source": [
    "def logic_cons_and(model,a,xs):\n",
    "    model.AddBoolAnd(xs).OnlyEnforceIf(a)\n",
    "    model.AddBoolOr([x.Not() for x in xs]).OnlyEnforceIf(a.Not())"
   ]
  },
  {
   "cell_type": "markdown",
   "id": "1540d886-9f7f-4b05-a6b5-c87bb85fc04a",
   "metadata": {},
   "source": [
    "## 3.2 设置辅助变量"
   ]
  },
  {
   "cell_type": "code",
   "execution_count": 25,
   "id": "3f52bd97-799e-44b5-bfb6-bd9c66b51c80",
   "metadata": {},
   "outputs": [],
   "source": [
    "## 老师是否在上课或者教研的变量\n",
    "teacher_time_vars = {}\n",
    "for the_teacher in all_teachers:\n",
    "    for the_day in all_days_indexes:\n",
    "        for the_index in all_course_indexes:\n",
    "            teacher_time_vars[the_teacher,the_day,the_index] = model.NewBoolVar(f'teacher_time_vars{the_teacher}_{the_day}_{the_index}')\n",
    "\n",
    "## bigM，用于一些约束中使非线性约束转化为线性约束\n",
    "bigM = 10000\n",
    "\n",
    "# 可以有连续课程的section\n",
    "indexes_could_consecutive = (\n",
    "    indexes_by_section[\"morning\"][:-1]\n",
    "    + indexes_by_section[\"afternoon\"][:-1]\n",
    "    + indexes_by_section[\"evening\"][:-1]\n",
    ")"
   ]
  },
  {
   "cell_type": "code",
   "execution_count": 26,
   "id": "6fa4a935-6562-42e9-9b1f-0e4eaa34b0e3",
   "metadata": {},
   "outputs": [],
   "source": [
    "# 创建变量指针哪些课程将连续上(对班级而言)\n",
    "will_consecutive_by_class_time_subject = {}\n",
    "for the_class in all_class_indexes:\n",
    "    for the_day in all_days_indexes:\n",
    "        for the_index in indexes_could_consecutive:\n",
    "            for the_subject in all_subjects:\n",
    "                will_consecutive_by_class_time_subject[the_class,the_day,the_index,the_subject] = model.NewBoolVar(f'will_consecutive_by_class_time_subject_{the_class}_{the_day}_{the_index}_{the_subject}')\n",
    "\n",
    "\n",
    "for the_class in all_class_indexes:\n",
    "    for the_day in all_days_indexes:\n",
    "        for the_index in indexes_could_consecutive:\n",
    "            for the_subject in all_subjects:\n",
    "                logic_cons_and(\n",
    "                    model,\n",
    "                    will_consecutive_by_class_time_subject[\n",
    "                        the_class, the_day, the_index, the_subject\n",
    "                    ],\n",
    "                    [\n",
    "                        course_vars[the_class, the_day, the_index, the_subject],\n",
    "                        course_vars[\n",
    "                            the_class, the_day, the_index + 1, the_subject\n",
    "                        ],\n",
    "                    ],\n",
    "                )\n",
    "\n",
    "# 创建变量计算每班每个day_section内每科有多少连续次数(对班级而言)\n",
    "sections_could_consecutive = [x for x in all_section if x != \"dawn\"]\n",
    "consecutive_num_by_class_day_section_subject = {}\n",
    "for the_class in all_class_indexes:\n",
    "    for the_day in all_days_indexes:\n",
    "        for the_section in sections_could_consecutive:\n",
    "            for the_subject in all_subjects:\n",
    "                consecutive_num_by_class_day_section_subject[the_class,the_day,the_section,the_subject] = model.NewIntVar(0, max_section_len, f'consecutive_num_by_class_day_section_subject_{the_class}_{the_day}_{the_section}_{the_subject}')\n",
    "\n",
    "\n",
    "for the_class in all_class_indexes:\n",
    "    for the_day in all_days_indexes:\n",
    "        for the_section in sections_could_consecutive:\n",
    "            for the_subject in all_subjects:\n",
    "                model.Add(\n",
    "                    consecutive_num_by_class_day_section_subject[\n",
    "                        the_class, the_day, the_section, the_subject\n",
    "                    ]\n",
    "                    == sum(\n",
    "                        will_consecutive_by_class_time_subject[\n",
    "                            the_class, the_day, the_index, the_subject\n",
    "                        ]\n",
    "                        for the_index in indexes_by_section[the_section][:-1]\n",
    "                    )\n",
    "                )\n",
    "\n",
    "# 创建变量计算每班每个day_section内每科有多少节课(对班级而言)\n",
    "num_by_class_day_section_subject = {}\n",
    "for the_class in all_class_indexes:\n",
    "    for the_day in all_days_indexes:\n",
    "        for the_section in all_section:\n",
    "            for the_subject in all_subjects:\n",
    "                num_by_class_day_section_subject[the_class,the_day,the_section,the_subject] = model.NewIntVar(0, max_section_len, f'num_by_class_day_section_subject_{the_class}_{the_day}_{the_section}_{the_subject}')\n",
    "\n",
    "\n",
    "# 创建变量对应每班每个day_section内每科是否有课(对班级而言)\n",
    "any_by_class_day_section_subject = {}\n",
    "for the_class in all_class_indexes:\n",
    "    for the_day in all_days_indexes:\n",
    "        for the_section in all_section:\n",
    "            for the_subject in all_subjects:\n",
    "                any_by_class_day_section_subject[the_class,the_day,the_section,the_subject] = model.NewBoolVar(f'any_by_class_day_section_subject_{the_class}_{the_day}_{the_section}_{the_subject}')\n",
    "\n",
    "for the_class in all_class_indexes:\n",
    "    for the_day in all_days_indexes:\n",
    "        for the_section in all_section:\n",
    "            for the_subject in all_subjects:\n",
    "                model.Add(\n",
    "                    num_by_class_day_section_subject[\n",
    "                        the_class, the_day, the_section, the_subject\n",
    "                    ]\n",
    "                    == sum(\n",
    "                        course_vars[the_class, the_day, the_index, the_subject]\n",
    "                        for the_index in indexes_by_section[the_section]\n",
    "                    )\n",
    "                )\n",
    "                # 用  b<=M*a\n",
    "                #    b>=0.5-M(1-a)\n",
    "                # 约束a=1 if b >0 else a=0\n",
    "                \n",
    "                a = any_by_class_day_section_subject[\n",
    "                    the_class, the_day, the_section, the_subject\n",
    "                ]\n",
    "                b = num_by_class_day_section_subject[\n",
    "                    the_class, the_day, the_section, the_subject\n",
    "                ]\n",
    "                model.Add(b>0).OnlyEnforceIf(a)\n",
    "                model.Add(b==0).OnlyEnforceIf(a.Not())\n",
    "                # model.Add(b <= a * bigM)\n",
    "                # model.Add(b >= 1 - bigM * (1 - a))"
   ]
  },
  {
   "cell_type": "code",
   "execution_count": 27,
   "id": "af5b6b64-15ec-4ed1-a88a-f185a5c15de4",
   "metadata": {},
   "outputs": [],
   "source": [
    "# 创建变量计算每老师每个day_section内每科有多少节课(对老师而言)\n",
    "num_by_teacher_day_section = {}\n",
    "for the_teacher in all_teachers:\n",
    "    for the_day in all_days_indexes:\n",
    "        for the_section in all_section:\n",
    "            num_by_teacher_day_section[the_teacher,the_day,the_section] = model.NewIntVar(0, max_section_len, f'num_by_teacher_day_section_{the_teacher}_{the_day}_{the_section}')\n",
    "\n",
    "# 创建变量对应每老师每个day_section内每科是否有课(对老师而言)\n",
    "any_by_teacher_day_section = {}\n",
    "for the_teacher in all_teachers:\n",
    "    for the_day in all_days_indexes:\n",
    "        for the_section in all_section:\n",
    "            any_by_teacher_day_section[the_teacher,the_day,the_section] = model.NewBoolVar( f'any_by_teacher_day_section{the_teacher}_{the_day}_{the_section}')\n",
    "\n",
    "for the_teacher in all_teachers:\n",
    "    for the_day in all_days_indexes:\n",
    "        for the_section in all_section:\n",
    "            # for the_subject in all_subjects:\n",
    "            has_jiaoyan = 0\n",
    "            for the_subject in set(teachers_duties[the_teacher].keys()) & set(\n",
    "                jiaoyan_day_section.keys()\n",
    "            ):\n",
    "                if (\n",
    "                    the_section == jiaoyan_day_section[the_subject][1]\n",
    "                    and the_day == jiaoyan_day_section[the_subject][0]\n",
    "                ):\n",
    "                    has_jiaoyan = 1\n",
    "\n",
    "            model.Add(\n",
    "                num_by_teacher_day_section[the_teacher, the_day, the_section]\n",
    "                == sum(\n",
    "                    course_vars[the_class, the_day, the_index, the_subject]\n",
    "                    for the_index in indexes_by_section[the_section]\n",
    "                    for the_subject, the_class_list in teachers_duties[\n",
    "                        the_teacher\n",
    "                    ].items()\n",
    "                    for the_class in the_class_list\n",
    "                )\n",
    "                + has_jiaoyan\n",
    "            )\n",
    "            # 用  b<=M*a\n",
    "            #    b>=0.5-M(1-a)\n",
    "            # 约束a=1 if b >0 else a=0\n",
    "            a = any_by_teacher_day_section[the_teacher, the_day, the_section]\n",
    "            b = num_by_teacher_day_section[the_teacher, the_day, the_section]\n",
    "            model.Add(b>0).OnlyEnforceIf(a)\n",
    "            model.Add(b==0).OnlyEnforceIf(a.Not())\n",
    "            # model.add(b <= a * bigM)\n",
    "            # model.add(b >= 1 - bigM * (1 - a))"
   ]
  },
  {
   "cell_type": "markdown",
   "id": "aff0e856-a50a-44f8-9646-5cfe89d3a865",
   "metadata": {},
   "source": [
    "# 4. 加约束"
   ]
  },
  {
   "cell_type": "markdown",
   "id": "cf0ae10a-316c-474a-9ce0-febc13bc3c8a",
   "metadata": {},
   "source": [
    "## 4.1 最基本约束"
   ]
  },
  {
   "cell_type": "markdown",
   "id": "8bfca2b8-9b73-41ec-b8b7-34432c99012b",
   "metadata": {},
   "source": [
    "### 4.1.1 每教师同时至多上一节课"
   ]
  },
  {
   "cell_type": "code",
   "execution_count": null,
   "id": "60479295-1f46-41f3-b9ff-3d575e71a53d",
   "metadata": {},
   "outputs": [],
   "source": []
  },
  {
   "cell_type": "code",
   "execution_count": 28,
   "id": "142b55f1-806e-4311-949e-7ce356565551",
   "metadata": {},
   "outputs": [],
   "source": [
    "# 定义约束\n",
    "for the_teacher in all_teachers:\n",
    "    for the_day in all_days_indexes:\n",
    "        for the_index in all_course_indexes:\n",
    "            has_jiaoyan = 0\n",
    "            for the_subject in set(teachers_duties[the_teacher].keys()) & set(\n",
    "                jiaoyan_day_section.keys()\n",
    "            ):\n",
    "                if (\n",
    "                    the_index in indexes_by_section[jiaoyan_day_section[the_subject][1]]\n",
    "                    and the_day == jiaoyan_day_section[the_subject][0]\n",
    "                ):\n",
    "                    has_jiaoyan = 1\n",
    "                    break\n",
    "            model.Add(\n",
    "                teacher_time_vars[the_teacher, the_day, the_index] \n",
    "                == (\n",
    "                    sum(\n",
    "                        course_vars[(the_class, the_day, the_index, the_subject)]\n",
    "                        for the_subject, the_class_list in teachers_duties[the_teacher].items()\n",
    "                        for the_class in set(the_class_list)&set(all_class_indexes)\n",
    "                        if the_class in all_class_indexes\n",
    "                    )\n",
    "                    + has_jiaoyan\n",
    "                )\n",
    "            )\n",
    "            # if the_teacher == \"teacher_24\" and the_day ==1 and the_index == 7:\n",
    "            #     print(has_jiaoyan)"
   ]
  },
  {
   "cell_type": "code",
   "execution_count": 29,
   "id": "2ec9f700-8936-472e-8b90-e79f58fb1dc2",
   "metadata": {},
   "outputs": [],
   "source": [
    "# model.teacher_time_constraint.pprint()"
   ]
  },
  {
   "cell_type": "code",
   "execution_count": 30,
   "id": "b6365d83-20f4-4490-a89a-c0524c2a431f",
   "metadata": {},
   "outputs": [],
   "source": [
    "# # teachers_duties\n",
    "# model.addCons(course_vars[(2, 1, 6, \"英语\")] == 1)\n",
    "# model.addCons(course_vars[(2, 1, 7, \"英语\")] == 1)\n",
    "# model.addCons(course_vars[(2, 1, 8, \"英语\")] == 1)\n",
    "# model.addCons(\n",
    "#     teacher_time_vars[(the_teacher, the_day, the_index)]\n",
    "#     == quicksum([course_vars[(2, 1, 6, \"英语\")] , course_vars[(6, 1, 6, \"英语\")]])\n",
    "#     + (1 == jiaoyan_day_section[\"英语\"][0]) * (1 in [1, 2, 3])\n",
    "# )"
   ]
  },
  {
   "cell_type": "code",
   "execution_count": 31,
   "id": "094bc3e4-d0b4-4cf5-a3ca-4262b95f15b3",
   "metadata": {},
   "outputs": [],
   "source": [
    "# (1 == jiaoyan_day_section[\"英语\"][0]) * (1 in [1, 2, 3])"
   ]
  },
  {
   "cell_type": "markdown",
   "id": "9782acb1-6be5-4a22-a4cb-9248ba512993",
   "metadata": {},
   "source": [
    "### 4.1.2 每班同时仅上一节课\n",
    "包含空课"
   ]
  },
  {
   "cell_type": "code",
   "execution_count": 32,
   "id": "7e8b3885-817f-4d5a-b1c8-6ad3560a6f1a",
   "metadata": {},
   "outputs": [],
   "source": [
    "# 定义约束\n",
    "\n",
    "for the_class in all_class_indexes:\n",
    "    for the_day in all_days_indexes:\n",
    "        for the_index in all_course_indexes:\n",
    "            model.Add(\n",
    "                sum(\n",
    "                    course_vars[the_class, the_day, the_index, the_subject]\n",
    "                    for the_subject in all_subjects\n",
    "                )\n",
    "                == 1\n",
    "            )"
   ]
  },
  {
   "cell_type": "markdown",
   "id": "e1de4ae1-9db0-4afb-b2fa-6547cbb93fd4",
   "metadata": {},
   "source": [
    "## 4.2 各时段课程数量约束"
   ]
  },
  {
   "cell_type": "code",
   "execution_count": 33,
   "id": "5ac9cf5a-aa70-4545-bf6a-7f671a809d26",
   "metadata": {},
   "outputs": [],
   "source": [
    "\n",
    "for the_class in all_class_indexes:\n",
    "    the_class_foucs = \"history\"\n",
    "    if the_class_index in class_foucs_info[\"physics\"]:\n",
    "        the_class_foucs = \"physics\"\n",
    "    for the_foucs, time_set, aim_subject, aim_num in subject_num_requirements:\n",
    "        if the_foucs == the_class_foucs:\n",
    "            # print(the_foucs,\"  \",time_set,\"  \",aim_subject,\"  \",aim_num)\n",
    "            model.add(\n",
    "                sum(\n",
    "                    course_vars[\n",
    "                        (\n",
    "                            the_class,\n",
    "                            aim_day,\n",
    "                            aim_index,\n",
    "                            aim_subject,\n",
    "                        )\n",
    "                    ]\n",
    "                    for aim_day, aim_index in time_set\n",
    "                )\n",
    "                == aim_num\n",
    "            )"
   ]
  },
  {
   "cell_type": "code",
   "execution_count": null,
   "id": "0eac191a-6441-49b9-964a-4ea066dfde05",
   "metadata": {},
   "outputs": [],
   "source": []
  },
  {
   "cell_type": "markdown",
   "id": "8c972546-a5c1-442b-95bd-144abffd32ec",
   "metadata": {},
   "source": [
    "## 4.3 特殊约束"
   ]
  },
  {
   "cell_type": "markdown",
   "id": "183466be-4a4d-46be-821b-0ca937ca49db",
   "metadata": {},
   "source": [
    "### 4.3.1 口语课要求"
   ]
  },
  {
   "cell_type": "code",
   "execution_count": 34,
   "id": "56d2a6ba-4d79-47c7-868b-b04b9bd1dad3",
   "metadata": {},
   "outputs": [],
   "source": [
    "\n",
    "# 约束 : 对每个班的任意时间而言，单周的口语在双周对应英语\n",
    "for a_class in all_class_indexes:\n",
    "    for a_day in all_days_indexes:\n",
    "        for a_course_Indices in all_course_indexes:\n",
    "            model.Add(\n",
    "                course_vars[(a_class, a_day, a_course_Indices, \"英语\")]\n",
    "                >= is_spoken_course[(a_class, a_day, a_course_Indices)]\n",
    "            )\n",
    "\n",
    "# 约束 : 每个班每周需要一节口语课\n",
    "for the_class in all_class_indexes:\n",
    "    model.Add(\n",
    "        sum(\n",
    "            is_spoken_course[(the_class, the_day, the_index)]\n",
    "            for the_day in all_days_indexes\n",
    "            for the_index in all_course_indexes\n",
    "        )\n",
    "        == 1\n",
    "    )\n",
    "\n",
    "# 约束 : 同一时间只能有一节口语课\n",
    "for the_day in all_days_indexes:\n",
    "    for the_index in all_course_indexes:\n",
    "        model.Add(\n",
    "            sum(\n",
    "                is_spoken_course[(the_class, the_day, the_index)]\n",
    "                for the_class in all_class_indexes\n",
    "            )\n",
    "            <= 1\n",
    "        )\n",
    "\n",
    "# 约束 : 口语仅在周一周五正课阶段上\n",
    "for the_class in all_class_indexes:\n",
    "    for the_day in [2, 3, 4, 6, 7]:\n",
    "        for the_index in all_course_indexes:\n",
    "            model.Add(\n",
    "                is_spoken_course[(the_class, the_day, the_index)] == 0\n",
    "            )\n",
    "    for the_day in [1, 5]:\n",
    "        for the_index in indexes_by_section[\"dawn\"] + indexes_by_section[\"evening\"]:\n",
    "            model.Add(\n",
    "                is_spoken_course[(the_class, the_day, the_index)] == 0\n",
    "            )"
   ]
  },
  {
   "cell_type": "markdown",
   "id": "ed12cdc8-aadf-43ff-acd1-620f33234e4f",
   "metadata": {},
   "source": [
    "### 4.3.2 每班每科正课每天数量限制\n",
    "语数外 至少1节，至多2节\n",
    "其他科目至多1节"
   ]
  },
  {
   "cell_type": "code",
   "execution_count": 35,
   "id": "12523c8b-0a40-4cff-8db7-37d29be36f37",
   "metadata": {},
   "outputs": [],
   "source": [
    "main_subjects = [\"语文\",\"数学\",\"英语\"]\n",
    "for the_class in all_class_indexes:\n",
    "    for the_day in [1,2,3,4,5]:\n",
    "        for the_subject in filter(lambda x: x != \"\", all_subjects):\n",
    "            if the_subject in main_subjects:\n",
    "                model.Add(\n",
    "                    sum(\n",
    "                        course_vars[\n",
    "                            (\n",
    "                                the_class,\n",
    "                                the_day,\n",
    "                                the_index,\n",
    "                                the_subject,\n",
    "                            )\n",
    "                        ]\n",
    "                        for the_index in (\n",
    "                            indexes_by_section[\"morning\"] + indexes_by_section[\"afternoon\"]\n",
    "                        )\n",
    "                    )\n",
    "                    <= 2\n",
    "                )\n",
    "                model.Add(\n",
    "                    sum(\n",
    "                        course_vars[\n",
    "                            (\n",
    "                                the_class,\n",
    "                                the_day,\n",
    "                                the_index,\n",
    "                                the_subject,\n",
    "                            )\n",
    "                        ]\n",
    "                        for the_index in (\n",
    "                            indexes_by_section[\"morning\"] + indexes_by_section[\"afternoon\"]\n",
    "                        )\n",
    "                    )\n",
    "                    >= 1\n",
    "                )\n",
    "            else:\n",
    "                model.Add(\n",
    "                    sum(\n",
    "                        course_vars[\n",
    "                            (\n",
    "                                the_class,\n",
    "                                the_day,\n",
    "                                the_index,\n",
    "                                the_subject,\n",
    "                            )\n",
    "                        ]\n",
    "                        for the_index in (\n",
    "                            indexes_by_section[\"morning\"] + indexes_by_section[\"afternoon\"]\n",
    "                        )\n",
    "                    )\n",
    "                    <= 1\n",
    "                )"
   ]
  },
  {
   "cell_type": "markdown",
   "id": "918f7e8a-44b6-4ddf-a601-93574285dc60",
   "metadata": {},
   "source": [
    "### 4.3.3 每班每科晚自习每天至多两节"
   ]
  },
  {
   "cell_type": "code",
   "execution_count": 36,
   "id": "a7760cd6-9018-4fe2-88b2-2a132b2efbe5",
   "metadata": {},
   "outputs": [],
   "source": [
    "for the_class in all_class_indexes:\n",
    "    for the_day in all_days_indexes:\n",
    "        for the_subject in filter(lambda x: x != \"\", all_subjects):\n",
    "            model.Add(\n",
    "                sum(\n",
    "                    course_vars[\n",
    "                        (\n",
    "                            the_class,\n",
    "                            the_day,\n",
    "                            the_index,\n",
    "                            the_subject,\n",
    "                        )\n",
    "                    ]\n",
    "                    for the_index in indexes_by_section[\"evening\"]\n",
    "                )\n",
    "                <= 2\n",
    "            )"
   ]
  },
  {
   "cell_type": "markdown",
   "id": "4deba9a2-c78f-4e75-81bf-bc6e969daf80",
   "metadata": {},
   "source": [
    "### 4.3.4 每个班而言每个时间段内的相同两节课需要连续"
   ]
  },
  {
   "cell_type": "code",
   "execution_count": 37,
   "id": "d92b4b76-147a-442b-9e22-a83031274bc3",
   "metadata": {},
   "outputs": [],
   "source": [
    "\n",
    "# 创建连续约束，每班每个day_section内，同课程要么没有，要么数量是连续次数+1\n",
    "# if k then a=b-1 转线性约束\n",
    "# a>=b-1-M*(1-k)\n",
    "# a<=b-1+M*(1-k)\n",
    "for the_class in all_class_indexes:\n",
    "    for the_day in all_days_indexes:\n",
    "        for the_section in sections_could_consecutive:\n",
    "            for the_subject in all_subjects:\n",
    "                a = consecutive_num_by_class_day_section_subject[\n",
    "                    the_class, the_day, the_section, the_subject\n",
    "                ]\n",
    "                b = num_by_class_day_section_subject[\n",
    "                    the_class, the_day, the_section, the_subject\n",
    "                ]\n",
    "                k = any_by_class_day_section_subject[\n",
    "                    the_class, the_day, the_section, the_subject\n",
    "                ]\n",
    "                model.Add(a==b-1).OnlyEnforceIf(k)\n",
    "                # model.Add(a >= b - 1 - bigM * (1 - k))\n",
    "                # model.Add(a <= b - 1 + bigM * (1 - k))"
   ]
  },
  {
   "cell_type": "markdown",
   "id": "63db7da7-fe8a-478a-a1cf-990970e8a871",
   "metadata": {},
   "source": [
    "### 4.3.5 每个班每天每科不会上下午都上"
   ]
  },
  {
   "cell_type": "code",
   "execution_count": 38,
   "id": "cffccbdf-3004-470d-8b31-33d55610e683",
   "metadata": {},
   "outputs": [],
   "source": [
    "for the_class in all_class_indexes:\n",
    "    for the_day in all_days_indexes:\n",
    "        for the_subject in filter(lambda x: x != \"\", all_subjects):\n",
    "            model.Add(\n",
    "                any_by_class_day_section_subject[\n",
    "                    the_class, the_day, \"morning\", the_subject\n",
    "                ]\n",
    "                + any_by_class_day_section_subject[\n",
    "                    the_class, the_day, \"afternoon\", the_subject\n",
    "                ]\n",
    "                <= 1\n",
    "            )"
   ]
  },
  {
   "cell_type": "markdown",
   "id": "b8f6b6e5-c64f-4a8b-af8e-ba3c36f04813",
   "metadata": {},
   "source": [
    "### 4.3.6 周五下午行政不排课"
   ]
  },
  {
   "cell_type": "code",
   "execution_count": 39,
   "id": "1a13dac7-6d64-41d0-9b2e-bc3f32743254",
   "metadata": {},
   "outputs": [],
   "source": [
    "\n",
    "### 周五下午行政不排课\n",
    "xingzheng_teachers = [\n",
    "    \"teacher_56\",\n",
    "    \"teacher_3\",\n",
    "    \"teacher_48\",\n",
    "    \"teacher_53\",\n",
    "    \"teacher_49\",\n",
    "    \"teacher_4\",\n",
    "    \"teacher_29\",\n",
    "    \"teacher_20\",\n",
    "    \"teacher_11\",\n",
    "    \"teacher_58\",\n",
    "    \"teacher_5\",\n",
    "]\n",
    "for the_teacher in xingzheng_teachers:\n",
    "    if the_teacher not in teachers_duties.keys():\n",
    "        # print(f\" teacher {the_teacher} has no class\")\n",
    "        continue\n",
    "    for the_subject, the_classes in teachers_duties[the_teacher].items():\n",
    "        for the_class in the_classes:\n",
    "            for the_index in indexes_by_section[\"afternoon\"]:\n",
    "                model.Add(\n",
    "                    course_vars[(the_class, 5, the_index, the_subject)] == 0\n",
    "                )"
   ]
  },
  {
   "cell_type": "markdown",
   "id": "70188a6a-1172-48c8-8724-c5e34e1e9330",
   "metadata": {},
   "source": [
    "### 4.3.7 教研时间不上课"
   ]
  },
  {
   "cell_type": "code",
   "execution_count": 40,
   "id": "90d9fd45-8345-4149-b4e2-b2157f4b1393",
   "metadata": {},
   "outputs": [],
   "source": [
    "# for the_subject, all_the_times in jaoyan_requirement.items():\n",
    "#     for the_day, the_section in all_the_times:\n",
    "#         for the_index in index_section[the_section]:\n",
    "#             for the_teacher in all_teachers:\n",
    "#                 if teachers_and_subjects_map[the_teacher] == the_subject:\n",
    "#                     for the_class in teachers_and_class_map[the_teacher]:\n",
    "#                         model.Add(\n",
    "#                             course_vars[(the_class, the_day, the_index, the_subject)]\n",
    "#                             == 0\n",
    "#                         )"
   ]
  },
  {
   "cell_type": "markdown",
   "id": "9830da80-707b-458c-9b8a-86db84c31f4c",
   "metadata": {},
   "source": [
    "### 4.3.8 如果下午是教研会晚上一般不安排晚自习"
   ]
  },
  {
   "cell_type": "code",
   "execution_count": 41,
   "id": "b55d867b-51ce-4a6b-b60e-e5f2d9519b88",
   "metadata": {},
   "outputs": [],
   "source": [
    "for the_subject, day_section in jiaoyan_day_section.items():\n",
    "    the_day, the_section = day_section\n",
    "    if the_section == \"afternoon\":\n",
    "        for the_index in indexes_by_section[\"evening\"]:\n",
    "            for the_class in all_class_indexes:\n",
    "                model.Add(\n",
    "                    course_vars[(the_class, the_day, the_index, the_subject)] == 0\n",
    "                )"
   ]
  },
  {
   "cell_type": "markdown",
   "id": "db3dec43-6cd4-4dcc-a137-21ec69e5ac52",
   "metadata": {},
   "source": [
    "### 4.3.9 各班各科每周的晚自习前后均匀\n",
    "前两节晚自习数量 与 后两节晚自习数量的差值低于1"
   ]
  },
  {
   "cell_type": "code",
   "execution_count": 42,
   "id": "fdbd02dc-8b20-46f0-ac40-740a819a8742",
   "metadata": {},
   "outputs": [],
   "source": [
    "half_evening = {\"early\": [10, 11], \"late\": [12, 13]}\n",
    "\n",
    "half_evening_num_by_class_half_subject = {}\n",
    "for half_name in half_evening.keys():\n",
    "    for the_class in all_class_indexes:\n",
    "        for the_subject in all_subjects:\n",
    "            half_evening_num_by_class_half_subject[half_name,the_class,the_subject] = model.NewIntVar(0, max_section_len* len(all_days_indexes), f'half_evening_num_by_class_half_subject{half_name}_{the_class}_{the_subject}')\n",
    "\n",
    "for the_class in all_class_indexes:\n",
    "    for the_subject in filter(lambda x: x != \"\", all_subjects):\n",
    "        for the_half_name, the_half_indexes in half_evening.items():\n",
    "            model.Add(\n",
    "                half_evening_num_by_class_half_subject[\n",
    "                    the_half_name, the_class, the_subject\n",
    "                ]\n",
    "                == sum(\n",
    "                    course_vars[the_class, the_day, the_index, the_subject]\n",
    "                    for the_day in all_days_indexes\n",
    "                    for the_index in the_half_indexes\n",
    "                )\n",
    "            )\n",
    "        model.Add(\n",
    "            half_evening_num_by_class_half_subject[\n",
    "                \"early\", the_class, the_subject\n",
    "            ]\n",
    "            - half_evening_num_by_class_half_subject[\n",
    "                \"late\", the_class, the_subject\n",
    "            ]\n",
    "            <= 1\n",
    "        )\n",
    "        model.Add(\n",
    "            half_evening_num_by_class_half_subject[\"late\", the_class, the_subject]\n",
    "            - half_evening_num_by_class_half_subject[\n",
    "                \"early\", the_class, the_subject\n",
    "            ]\n",
    "            <= 1\n",
    "        )"
   ]
  },
  {
   "cell_type": "code",
   "execution_count": null,
   "id": "902ddaa9-1262-4d64-b75e-20fc427ada1a",
   "metadata": {},
   "outputs": [],
   "source": []
  },
  {
   "cell_type": "markdown",
   "id": "3e336d80-f1d8-4691-84b6-ac4d6ffc620e",
   "metadata": {},
   "source": [
    "# 5. 加目标"
   ]
  },
  {
   "cell_type": "markdown",
   "id": "cb04d29c-804b-47fe-929b-4f4358b5b4fd",
   "metadata": {},
   "source": [
    "## 5.1 子目标"
   ]
  },
  {
   "cell_type": "markdown",
   "id": "d7f2ddd4-5e45-4845-b467-2b0d120bb544",
   "metadata": {},
   "source": [
    "### 5.1.1 教师需要出现的section总数尽量少"
   ]
  },
  {
   "cell_type": "code",
   "execution_count": 43,
   "id": "b3e4ce2e-3035-4a90-a376-1a3a391a182b",
   "metadata": {},
   "outputs": [
    {
     "data": {
      "text/plain": [
       "<ortools.sat.python.cp_model.Constraint at 0x1a3927276d0>"
      ]
     },
     "execution_count": 43,
     "metadata": {},
     "output_type": "execute_result"
    }
   ],
   "source": [
    "\n",
    "teacher_num_by_day_section = {}\n",
    "for the_day in all_days_indexes:\n",
    "    for the_section in all_section:\n",
    "        teacher_num_by_day_section[the_day, the_section] = model.NewIntVar(0, len(all_teachers), f'teacher_num_by_day_section_{the_day}_{the_section}')\n",
    "\n",
    "for the_day in all_days_indexes:\n",
    "    for the_section in all_section:\n",
    "        model.Add(\n",
    "            teacher_num_by_day_section[the_day, the_section]\n",
    "            == sum(\n",
    "                any_by_teacher_day_section[the_teacher, the_day, the_section]\n",
    "                for the_teacher in all_teachers\n",
    "            )\n",
    "        )\n",
    "total_teacher_shows_day_section = model.NewIntVar(\n",
    "    0, len(all_teachers) * len(all_days_indexes) * len(all_section),f\"total_teacher_shows_day_section\"\n",
    ")\n",
    "model.Add(\n",
    "    total_teacher_shows_day_section\n",
    "    == sum(\n",
    "        teacher_num_by_day_section[the_day, the_section]\n",
    "        for the_day in all_days_indexes\n",
    "        for the_section in all_section\n",
    "    )\n",
    ")"
   ]
  },
  {
   "cell_type": "markdown",
   "id": "0ee30281-2e5f-47a9-a3ef-211da2572413",
   "metadata": {},
   "source": [
    "### 5.1.2 老师每天课程集中得尽量多\n",
    "靠目标函数中的系数体现我们希望各个出现的倾向性"
   ]
  },
  {
   "cell_type": "code",
   "execution_count": 44,
   "id": "ae64ec09-adf2-4aad-80d0-974bff484871",
   "metadata": {},
   "outputs": [
    {
     "data": {
      "text/plain": [
       "<ortools.sat.python.cp_model.Constraint at 0x1a39281cbd0>"
      ]
     },
     "execution_count": 44,
     "metadata": {},
     "output_type": "execute_result"
    }
   ],
   "source": [
    "care_section_from_to = [\n",
    "    (\"dawn\",\"morning\"),\n",
    "    (\"dawn\",\"afternoon\"),\n",
    "    (\"dawn\",\"evening\"),\n",
    "    (\"morning\",\"afternoon\"),\n",
    "    (\"afternoon\",\"evening\"),\n",
    "    (\"morning\",\"evening\"),\n",
    "]\n",
    "teacher_times_by_section_from_to = {}\n",
    "teacher_day_section_from_to = {}\n",
    "for section_from,section_to in care_section_from_to:\n",
    "    teacher_times_by_section_from_to[section_from,section_to] = model.NewIntVar(\n",
    "        0, len(all_teachers)*len(all_days_indexes), \n",
    "        f'teacher_times_by_section_from_to_{section_from}_{section_to}'\n",
    "    )\n",
    "\n",
    "for section_from,section_to in care_section_from_to:\n",
    "    for the_teacher in all_teachers:\n",
    "        for the_day in [1,2,3,4,5]:\n",
    "            teacher_day_section_from_to[the_teacher,the_day,section_from,section_to] = model.NewBoolVar(\n",
    "                f'teacher_day_section_from_to_{the_teacher}_{the_day}_{section_from}_{section_to}'\n",
    "            )\n",
    "\n",
    "for the_teacher in all_teachers:\n",
    "    for the_day in [1,2,3,4,5]:\n",
    "        a = teacher_day_section_from_to[the_teacher, the_day, \"dawn\",\"morning\"]\n",
    "        b = any_by_teacher_day_section[the_teacher, the_day, \"dawn\"]\n",
    "        c = any_by_teacher_day_section[the_teacher, the_day, \"morning\"]\n",
    "        d = any_by_teacher_day_section[the_teacher, the_day, \"afternoon\"].Not()\n",
    "        e = any_by_teacher_day_section[the_teacher, the_day, \"evening\"].Not()\n",
    "        model.AddBoolAnd([b, c,d,e]).OnlyEnforceIf(a)   # b and c 必须为 True 时，a 为 True\n",
    "        model.AddBoolOr([b.Not(),c.Not(),d.Not(),e.Not()]).OnlyEnforceIf(a.Not())  \n",
    "\n",
    "model.Add(\n",
    "    teacher_times_by_section_from_to[\"dawn\",\"morning\"]\n",
    "    == sum (\n",
    "        teacher_day_section_from_to[the_teacher, the_day, \"dawn\",\"morning\"]\n",
    "        for the_teacher in all_teachers\n",
    "        for the_day in [1,2,3,4,5]\n",
    "    )\n",
    ")\n",
    "\n",
    "for the_teacher in all_teachers:\n",
    "    for the_day in [1,2,3,4,5]:\n",
    "        a = teacher_day_section_from_to[the_teacher, the_day, \"dawn\",\"afternoon\"]\n",
    "        b = any_by_teacher_day_section[the_teacher, the_day, \"dawn\"]\n",
    "        d = any_by_teacher_day_section[the_teacher, the_day, \"afternoon\"]\n",
    "        e = any_by_teacher_day_section[the_teacher, the_day, \"evening\"].Not()\n",
    "        model.AddBoolAnd([b,d,e]).OnlyEnforceIf(a)   # b and c 必须为 True 时，a 为 True\n",
    "        model.AddBoolOr([b.Not(),d.Not(),e.Not()]).OnlyEnforceIf(a.Not())  \n",
    "\n",
    "model.Add(\n",
    "    teacher_times_by_section_from_to[\"dawn\",\"afternoon\"]\n",
    "    == sum (\n",
    "        teacher_day_section_from_to[the_teacher, the_day, \"dawn\",\"afternoon\"]\n",
    "        for the_teacher in all_teachers\n",
    "        for the_day in [1,2,3,4,5]\n",
    "    )\n",
    ")\n",
    "\n",
    "for the_teacher in all_teachers:\n",
    "    for the_day in [1,2,3,4,5]:\n",
    "        a = teacher_day_section_from_to[the_teacher, the_day, \"dawn\",\"evening\"]\n",
    "        e = any_by_teacher_day_section[the_teacher, the_day, \"evening\"]\n",
    "        model.AddBoolAnd([b,e]).OnlyEnforceIf(a)   # b and c 必须为 True 时，a 为 True\n",
    "        model.AddBoolOr([b.Not(),e.Not()]).OnlyEnforceIf(a.Not())  \n",
    "\n",
    "model.Add(\n",
    "    teacher_times_by_section_from_to[\"dawn\",\"evening\"]\n",
    "    == sum (\n",
    "        teacher_day_section_from_to[the_teacher, the_day, \"dawn\",\"evening\"]\n",
    "        for the_teacher in all_teachers\n",
    "        for the_day in [1,2,3,4,5]\n",
    "    )\n",
    ")\n",
    "        \n",
    "for the_teacher in all_teachers:\n",
    "    for the_day in [1,2,3,4,5]:\n",
    "        a = teacher_day_section_from_to[the_teacher, the_day, \"morning\",\"afternoon\"]\n",
    "        b = any_by_teacher_day_section[the_teacher, the_day, \"dawn\"].Not()\n",
    "        f = any_by_teacher_day_section[the_teacher, the_day, \"morning\"]\n",
    "        d = any_by_teacher_day_section[the_teacher, the_day, \"afternoon\"]\n",
    "        e = any_by_teacher_day_section[the_teacher, the_day, \"evening\"].Not()\n",
    "        model.AddBoolAnd([b,d,e,f]).OnlyEnforceIf(a)   # b and c 必须为 True 时，a 为 True\n",
    "        model.AddBoolOr([b.Not(),d.Not(),e.Not(),f.Not()]).OnlyEnforceIf(a.Not())  \n",
    "\n",
    "model.Add(\n",
    "    teacher_times_by_section_from_to[\"morning\",\"afternoon\"]\n",
    "    == sum (\n",
    "        teacher_day_section_from_to[the_teacher, the_day, \"morning\",\"afternoon\"]\n",
    "        for the_teacher in all_teachers\n",
    "        for the_day in [1,2,3,4,5]\n",
    "    )\n",
    ")\n",
    "\n",
    "for the_teacher in all_teachers:\n",
    "    for the_day in [1,2,3,4,5]:\n",
    "        a = teacher_day_section_from_to[the_teacher, the_day, \"morning\",\"evening\"]\n",
    "        b = any_by_teacher_day_section[the_teacher, the_day, \"dawn\"].Not()\n",
    "        f = any_by_teacher_day_section[the_teacher, the_day, \"morning\"]\n",
    "        e = any_by_teacher_day_section[the_teacher, the_day, \"evening\"]\n",
    "        model.AddBoolAnd([b,e,f]).OnlyEnforceIf(a)   # b and c 必须为 True 时，a 为 True\n",
    "        model.AddBoolOr([b.Not(),e.Not(),f.Not()]).OnlyEnforceIf(a.Not())  \n",
    "\n",
    "model.Add(\n",
    "    teacher_times_by_section_from_to[\"morning\",\"evening\"]\n",
    "    == sum (\n",
    "        teacher_day_section_from_to[the_teacher, the_day, \"morning\",\"evening\"]\n",
    "        for the_teacher in all_teachers\n",
    "        for the_day in [1,2,3,4,5]\n",
    "    )\n",
    ")\n",
    "\n",
    "for the_teacher in all_teachers:\n",
    "    for the_day in [1,2,3,4,5]:\n",
    "        a = teacher_day_section_from_to[the_teacher, the_day, \"afternoon\",\"evening\"]\n",
    "        b = any_by_teacher_day_section[the_teacher, the_day, \"dawn\"].Not()\n",
    "        f = any_by_teacher_day_section[the_teacher, the_day, \"morning\"].Not()\n",
    "        c = any_by_teacher_day_section[the_teacher, the_day, \"afternoon\"]\n",
    "        e = any_by_teacher_day_section[the_teacher, the_day, \"evening\"]\n",
    "        model.AddBoolAnd([b,e,c,f]).OnlyEnforceIf(a)   # b and c 必须为 True 时，a 为 True\n",
    "        model.AddBoolOr([b.Not(),e.Not(),c.Not(),f.Not()]).OnlyEnforceIf(a.Not())  \n",
    "\n",
    "model.Add(\n",
    "    teacher_times_by_section_from_to[\"afternoon\",\"evening\"]\n",
    "    == sum (\n",
    "        teacher_day_section_from_to[the_teacher, the_day, \"afternoon\",\"evening\"]\n",
    "        for the_teacher in all_teachers\n",
    "        for the_day in [1,2,3,4,5]\n",
    "    )\n",
    ")\n"
   ]
  },
  {
   "cell_type": "markdown",
   "id": "9160ef3c-3978-4d14-9b07-faa7fa0bee2c",
   "metadata": {},
   "source": [
    "## 5.2 综合目标函数"
   ]
  },
  {
   "cell_type": "code",
   "execution_count": 45,
   "id": "2bd4e8bb-ee8d-4321-9382-fe59c6117f56",
   "metadata": {},
   "outputs": [],
   "source": [
    "model.Minimize(\n",
    "    teacher_num_by_day_section[1, \"evening\"] * 100\n",
    "    + teacher_num_by_day_section[2, \"evening\"] * 100\n",
    "    + teacher_num_by_day_section[3, \"evening\"] * 100\n",
    "    + teacher_num_by_day_section[4, \"evening\"] * 100\n",
    "    + teacher_num_by_day_section[5, \"evening\"] * 100\n",
    "    + teacher_num_by_day_section[7, \"evening\"] * 1000\n",
    "    + total_teacher_shows_day_section * 10\n",
    "    - teacher_times_by_section_from_to[\"dawn\",\"morning\"] * 5\n",
    "    - teacher_times_by_section_from_to[\"afternoon\",\"evening\"] *5\n",
    "    + teacher_times_by_section_from_to[\"dawn\",\"afternoon\"] * 5\n",
    "    + teacher_times_by_section_from_to[\"morning\",\"afternoon\"] * 5\n",
    "    + teacher_times_by_section_from_to[\"morning\",\"evening\"] * 20\n",
    "    + teacher_times_by_section_from_to[\"dawn\",\"evening\"] * 200\n",
    ")\n"
   ]
  },
  {
   "cell_type": "markdown",
   "id": "e6a8343e-6974-4462-a69b-988ebc43bdb6",
   "metadata": {},
   "source": [
    "# 6. 求解"
   ]
  },
  {
   "cell_type": "code",
   "execution_count": 46,
   "id": "42bab3a0-e7ff-4b83-8a07-7ab7a1bda801",
   "metadata": {},
   "outputs": [],
   "source": [
    "import json\n",
    "load_course_var = {}\n",
    "with open('course_save_var_31499.json', 'r') as f:\n",
    "    load_course_var = json.load(f)\n",
    "\n",
    "for the_class in all_class_indexes:\n",
    "    for the_day in all_days_indexes:\n",
    "        for the_index in all_course_indexes:\n",
    "            for the_subject in all_subjects:\n",
    "                str_key = str((the_class,the_day,the_index,the_subject))\n",
    "                model.AddHint(course_vars[the_class,the_day,the_index,the_subject],load_course_var[str_key])\n"
   ]
  },
  {
   "cell_type": "markdown",
   "id": "4f4a30ee-c320-44c9-9b95-3622b4bfbf0a",
   "metadata": {},
   "source": [
    "## 6.1 使用OR-TOOLS求解"
   ]
  },
  {
   "cell_type": "code",
   "execution_count": 47,
   "id": "282b7b15-1854-4489-b719-426734eae440",
   "metadata": {},
   "outputs": [],
   "source": [
    "class SolutionPrinter(cp_model.CpSolverSolutionCallback):\n",
    "    def __init__(self):\n",
    "        cp_model.CpSolverSolutionCallback.__init__(self)\n",
    "        print(f\"Start to find Solution\")\n",
    "        self.__solution_count = 0\n",
    "\n",
    "    def OnSolutionCallback(self):\n",
    "        # This method is called each time the solver finds a solution.\n",
    "        print(f\"Solution {self.__solution_count} : Objective Value = {self.ObjectiveValue()} Time = {self.WallTime()} s\")\n",
    "        # Access variables using the Value method, e.g., `self.Value(var_name)`\n",
    "        self.__solution_count += 1"
   ]
  },
  {
   "cell_type": "code",
   "execution_count": 48,
   "id": "b3508df8-ee01-4c49-a2e7-83fb2217284b",
   "metadata": {
    "scrolled": true
   },
   "outputs": [
    {
     "name": "stdout",
     "output_type": "stream",
     "text": [
      "Start to find Solution\n",
      "Solution 0 : Objective Value = 42650.0 Time = 39.266217700000006 s\n",
      "Solution 1 : Objective Value = 42410.0 Time = 40.197898 s\n",
      "Solution 2 : Objective Value = 42400.0 Time = 40.8473697 s\n",
      "Solution 3 : Objective Value = 41805.0 Time = 42.013606100000004 s\n",
      "Solution 4 : Objective Value = 40795.0 Time = 42.4810819 s\n",
      "Solution 5 : Objective Value = 40680.0 Time = 43.336004800000005 s\n",
      "Solution 6 : Objective Value = 39475.0 Time = 43.8011083 s\n",
      "Solution 7 : Objective Value = 39455.0 Time = 44.4855384 s\n",
      "Solution 8 : Objective Value = 39430.0 Time = 45.144437100000005 s\n",
      "Solution 9 : Objective Value = 39420.0 Time = 45.5542065 s\n",
      "Solution 10 : Objective Value = 37815.0 Time = 45.670749300000004 s\n",
      "Solution 11 : Objective Value = 37785.0 Time = 46.3765725 s\n",
      "Solution 12 : Objective Value = 37620.0 Time = 46.462775300000004 s\n",
      "Solution 13 : Objective Value = 37490.0 Time = 47.432853900000005 s\n",
      "Solution 14 : Objective Value = 37410.0 Time = 47.677216400000006 s\n",
      "Solution 15 : Objective Value = 37250.0 Time = 47.7383565 s\n",
      "Solution 16 : Objective Value = 37215.0 Time = 48.378812200000006 s\n",
      "Solution 17 : Objective Value = 37170.0 Time = 48.4629788 s\n",
      "Solution 18 : Objective Value = 37100.0 Time = 49.9227457 s\n",
      "Solution 19 : Objective Value = 37050.0 Time = 49.983521200000006 s\n",
      "Solution 20 : Objective Value = 37030.0 Time = 50.1709757 s\n",
      "Solution 21 : Objective Value = 36315.0 Time = 51.0740296 s\n",
      "Solution 22 : Objective Value = 34905.0 Time = 52.1176723 s\n",
      "Solution 23 : Objective Value = 34590.0 Time = 53.180745300000005 s\n",
      "Solution 24 : Objective Value = 34540.0 Time = 54.0047149 s\n",
      "Solution 25 : Objective Value = 34520.0 Time = 54.573550700000006 s\n",
      "Solution 26 : Objective Value = 34480.0 Time = 54.6192062 s\n",
      "Solution 27 : Objective Value = 34470.0 Time = 54.9891799 s\n",
      "Solution 28 : Objective Value = 34285.0 Time = 55.61243090000001 s\n",
      "Solution 29 : Objective Value = 34270.0 Time = 56.1942121 s\n",
      "Solution 30 : Objective Value = 34250.0 Time = 56.8290221 s\n",
      "Solution 31 : Objective Value = 32765.0 Time = 57.04173110000001 s\n",
      "Solution 32 : Objective Value = 32750.0 Time = 57.252435000000006 s\n",
      "Solution 33 : Objective Value = 32695.0 Time = 57.859992600000005 s\n",
      "Solution 34 : Objective Value = 32145.0 Time = 57.9036661 s\n",
      "Solution 35 : Objective Value = 32090.0 Time = 58.8017036 s\n",
      "Solution 36 : Objective Value = 32020.0 Time = 59.2874515 s\n",
      "Solution 37 : Objective Value = 31965.0 Time = 59.562293000000004 s\n",
      "Solution 38 : Objective Value = 31950.0 Time = 59.658932300000004 s\n",
      "Solution 39 : Objective Value = 31945.0 Time = 60.5021015 s\n",
      "Solution 40 : Objective Value = 31915.0 Time = 60.61651620000001 s\n",
      "Solution 41 : Objective Value = 31905.0 Time = 61.145937200000006 s\n",
      "Solution 42 : Objective Value = 31885.0 Time = 61.3677835 s\n",
      "Solution 43 : Objective Value = 31845.0 Time = 61.893495400000006 s\n",
      "Solution 44 : Objective Value = 31835.0 Time = 62.474652400000004 s\n",
      "Solution 45 : Objective Value = 31780.0 Time = 62.592720400000005 s\n",
      "Solution 46 : Objective Value = 31730.0 Time = 63.6138843 s\n",
      "Solution 47 : Objective Value = 31705.0 Time = 64.5432333 s\n",
      "Solution 48 : Objective Value = 31480.0 Time = 64.62800370000001 s\n",
      "Solution 49 : Objective Value = 31470.0 Time = 65.6995146 s\n",
      "Solution 50 : Objective Value = 31465.0 Time = 66.2894747 s\n",
      "Solution 51 : Objective Value = 31460.0 Time = 66.3598678 s\n",
      "Solution 52 : Objective Value = 31455.0 Time = 67.22736540000001 s\n",
      "Solution 53 : Objective Value = 31440.0 Time = 67.9319327 s\n",
      "Solution 54 : Objective Value = 31405.0 Time = 68.02597560000001 s\n",
      "Solution 55 : Objective Value = 31400.0 Time = 69.602019 s\n",
      "Solution 56 : Objective Value = 31395.0 Time = 70.0125184 s\n",
      "Solution 57 : Objective Value = 31375.0 Time = 70.2278632 s\n",
      "Solution 58 : Objective Value = 31350.0 Time = 70.5680193 s\n",
      "Solution 59 : Objective Value = 31220.0 Time = 71.1261736 s\n",
      "Solution 60 : Objective Value = 30315.0 Time = 73.208346 s\n",
      "Solution 61 : Objective Value = 30305.0 Time = 74.2370657 s\n",
      "Solution 62 : Objective Value = 30170.0 Time = 74.31191910000001 s\n",
      "Solution 63 : Objective Value = 30155.0 Time = 75.7865271 s\n",
      "Solution 64 : Objective Value = 30145.0 Time = 76.29832950000001 s\n",
      "Solution 65 : Objective Value = 30140.0 Time = 77.37412900000001 s\n",
      "Solution 66 : Objective Value = 30135.0 Time = 77.5575259 s\n",
      "Solution 67 : Objective Value = 30130.0 Time = 78.4207942 s\n",
      "Solution 68 : Objective Value = 29725.0 Time = 79.34671110000001 s\n",
      "Solution 69 : Objective Value = 29715.0 Time = 80.1547998 s\n",
      "Solution 70 : Objective Value = 29685.0 Time = 80.7022043 s\n",
      "Solution 71 : Objective Value = 29640.0 Time = 81.6508325 s\n",
      "Solution 72 : Objective Value = 29510.0 Time = 82.8353642 s\n",
      "Solution 73 : Objective Value = 29495.0 Time = 83.3675288 s\n",
      "Solution 74 : Objective Value = 28745.0 Time = 84.1908875 s\n",
      "Solution 75 : Objective Value = 28710.0 Time = 84.8630766 s\n",
      "Solution 76 : Objective Value = 28690.0 Time = 85.765854 s\n",
      "Solution 77 : Objective Value = 28570.0 Time = 86.1070287 s\n",
      "Solution 78 : Objective Value = 27645.0 Time = 87.1179235 s\n",
      "Solution 79 : Objective Value = 27640.0 Time = 88.1410238 s\n",
      "Solution 80 : Objective Value = 27635.0 Time = 89.80671960000001 s\n",
      "Solution 81 : Objective Value = 27580.0 Time = 91.25605420000001 s\n",
      "Solution 82 : Objective Value = 27570.0 Time = 93.2337698 s\n",
      "Solution 83 : Objective Value = 27550.0 Time = 93.40840370000001 s\n",
      "Solution 84 : Objective Value = 27485.0 Time = 94.19327670000001 s\n",
      "Solution 85 : Objective Value = 27300.0 Time = 94.40885270000001 s\n",
      "Solution 86 : Objective Value = 27170.0 Time = 95.5473142 s\n",
      "Solution 87 : Objective Value = 27160.0 Time = 99.1808407 s\n",
      "Solution 88 : Objective Value = 27055.0 Time = 100.58063130000001 s\n",
      "Solution 89 : Objective Value = 27045.0 Time = 102.30069710000001 s\n",
      "Solution 90 : Objective Value = 26945.0 Time = 103.3294171 s\n",
      "Solution 91 : Objective Value = 26920.0 Time = 104.3868611 s\n",
      "Solution 92 : Objective Value = 26910.0 Time = 106.1522659 s\n",
      "Solution 93 : Objective Value = 26825.0 Time = 106.20322660000001 s\n",
      "Solution 94 : Objective Value = 26815.0 Time = 108.09198970000001 s\n",
      "Solution 95 : Objective Value = 26780.0 Time = 109.47560890000001 s\n",
      "Solution 96 : Objective Value = 26755.0 Time = 110.7628799 s\n",
      "Solution 97 : Objective Value = 26745.0 Time = 114.0043933 s\n",
      "Solution 98 : Objective Value = 26735.0 Time = 116.17265730000001 s\n",
      "Solution 99 : Objective Value = 25855.0 Time = 119.37846590000001 s\n",
      "Solution 100 : Objective Value = 25815.0 Time = 120.45097480000001 s\n",
      "Solution 101 : Objective Value = 25805.0 Time = 121.34906000000001 s\n",
      "Solution 102 : Objective Value = 25800.0 Time = 125.12970190000001 s\n",
      "Solution 103 : Objective Value = 25785.0 Time = 127.03185400000001 s\n",
      "Solution 104 : Objective Value = 25470.0 Time = 129.7387314 s\n",
      "Solution 105 : Objective Value = 25460.0 Time = 131.0404555 s\n",
      "Solution 106 : Objective Value = 25390.0 Time = 131.9972559 s\n",
      "Solution 107 : Objective Value = 25375.0 Time = 133.1715163 s\n",
      "Solution 108 : Objective Value = 25270.0 Time = 133.21635030000002 s\n",
      "Solution 109 : Objective Value = 25265.0 Time = 133.6679004 s\n",
      "Solution 110 : Objective Value = 25160.0 Time = 135.57976960000002 s\n",
      "Solution 111 : Objective Value = 25095.0 Time = 136.66585170000002 s\n",
      "Solution 112 : Objective Value = 25085.0 Time = 137.6186681 s\n",
      "Solution 113 : Objective Value = 25070.0 Time = 137.6697967 s\n",
      "Solution 114 : Objective Value = 25065.0 Time = 138.7978696 s\n",
      "Solution 115 : Objective Value = 24855.0 Time = 138.86402130000002 s\n",
      "Solution 116 : Objective Value = 24845.0 Time = 139.2553868 s\n",
      "Solution 117 : Objective Value = 24840.0 Time = 140.04515990000002 s\n",
      "Solution 118 : Objective Value = 24835.0 Time = 140.994728 s\n",
      "Solution 119 : Objective Value = 24825.0 Time = 142.0675057 s\n",
      "Solution 120 : Objective Value = 24820.0 Time = 142.62471870000002 s\n",
      "Solution 121 : Objective Value = 24790.0 Time = 143.5762106 s\n",
      "Solution 122 : Objective Value = 24745.0 Time = 149.62462490000001 s\n",
      "Solution 123 : Objective Value = 24505.0 Time = 153.021433 s\n",
      "Solution 124 : Objective Value = 24400.0 Time = 155.90354580000002 s\n",
      "Solution 125 : Objective Value = 24390.0 Time = 158.18662700000002 s\n",
      "Solution 126 : Objective Value = 24285.0 Time = 159.44429680000002 s\n",
      "Solution 127 : Objective Value = 24280.0 Time = 160.7235243 s\n",
      "Solution 128 : Objective Value = 24275.0 Time = 162.5000395 s\n",
      "Solution 129 : Objective Value = 24265.0 Time = 162.77781380000002 s\n",
      "Solution 130 : Objective Value = 24245.0 Time = 166.05664180000002 s\n",
      "Solution 131 : Objective Value = 24240.0 Time = 168.5845401 s\n",
      "Solution 132 : Objective Value = 24230.0 Time = 171.8678802 s\n",
      "Solution 133 : Objective Value = 24200.0 Time = 176.0563797 s\n",
      "Solution 134 : Objective Value = 24105.0 Time = 177.1636679 s\n",
      "Solution 135 : Objective Value = 24095.0 Time = 180.4966105 s\n",
      "Solution 136 : Objective Value = 24085.0 Time = 187.1539097 s\n",
      "Solution 137 : Objective Value = 24075.0 Time = 192.31158240000002 s\n",
      "Solution 138 : Objective Value = 24065.0 Time = 194.93548710000002 s\n",
      "Solution 139 : Objective Value = 24050.0 Time = 198.2357967 s\n",
      "Solution 140 : Objective Value = 24045.0 Time = 199.2216309 s\n",
      "Solution 141 : Objective Value = 24035.0 Time = 203.5205012 s\n",
      "Solution 142 : Objective Value = 24010.0 Time = 206.01206420000003 s\n",
      "Solution 143 : Objective Value = 23995.0 Time = 208.37026840000001 s\n",
      "Solution 144 : Objective Value = 23985.0 Time = 209.66461360000002 s\n",
      "Solution 145 : Objective Value = 23970.0 Time = 216.03304770000003 s\n",
      "Solution 146 : Objective Value = 23965.0 Time = 216.9104838 s\n",
      "Solution 147 : Objective Value = 23950.0 Time = 218.9396192 s\n",
      "Solution 148 : Objective Value = 23945.0 Time = 221.4549885 s\n",
      "Solution 149 : Objective Value = 23940.0 Time = 226.1952014 s\n",
      "Solution 150 : Objective Value = 23935.0 Time = 226.87237420000002 s\n",
      "Solution 151 : Objective Value = 23925.0 Time = 229.94396940000001 s\n",
      "Solution 152 : Objective Value = 23740.0 Time = 231.71429080000001 s\n",
      "Solution 153 : Objective Value = 23735.0 Time = 237.39938740000002 s\n",
      "Solution 154 : Objective Value = 23630.0 Time = 241.20113970000003 s\n",
      "Solution 155 : Objective Value = 23615.0 Time = 244.43980180000003 s\n",
      "Solution 156 : Objective Value = 23605.0 Time = 246.94550410000002 s\n",
      "Solution 157 : Objective Value = 23595.0 Time = 251.41879440000002 s\n",
      "Solution 158 : Objective Value = 23540.0 Time = 258.3457538 s\n",
      "Solution 159 : Objective Value = 23530.0 Time = 262.2403319 s\n",
      "Solution 160 : Objective Value = 23495.0 Time = 264.8244378 s\n",
      "Solution 161 : Objective Value = 23485.0 Time = 267.04596280000004 s\n",
      "Solution 162 : Objective Value = 23480.0 Time = 272.2183713 s\n",
      "Solution 163 : Objective Value = 23475.0 Time = 277.3695549 s\n",
      "Solution 164 : Objective Value = 23470.0 Time = 280.0630216 s\n",
      "Solution 165 : Objective Value = 23460.0 Time = 285.47588640000004 s\n",
      "Solution 166 : Objective Value = 23455.0 Time = 287.1260909 s\n",
      "Solution 167 : Objective Value = 23445.0 Time = 290.97613190000004 s\n",
      "Solution 168 : Objective Value = 23435.0 Time = 316.17964700000005 s\n",
      "Solution 169 : Objective Value = 23425.0 Time = 317.5272666 s\n",
      "Solution 170 : Objective Value = 23415.0 Time = 329.0091188 s\n",
      "Solution 171 : Objective Value = 23410.0 Time = 342.84110960000004 s\n",
      "Solution 172 : Objective Value = 23395.0 Time = 350.46384520000004 s\n",
      "Solution 173 : Objective Value = 23385.0 Time = 353.3197695 s\n",
      "Solution 174 : Objective Value = 23375.0 Time = 355.589586 s\n",
      "Solution 175 : Objective Value = 23370.0 Time = 361.3093877 s\n",
      "Solution 176 : Objective Value = 23260.0 Time = 363.290727 s\n",
      "Solution 177 : Objective Value = 23250.0 Time = 369.56121920000004 s\n",
      "Solution 178 : Objective Value = 23235.0 Time = 373.5845653 s\n",
      "Solution 179 : Objective Value = 23230.0 Time = 377.84898400000003 s\n",
      "Solution 180 : Objective Value = 23225.0 Time = 381.07827690000005 s\n",
      "Solution 181 : Objective Value = 23120.0 Time = 385.76779730000004 s\n",
      "Solution 182 : Objective Value = 23110.0 Time = 394.33413720000004 s\n",
      "Solution 183 : Objective Value = 23105.0 Time = 406.3939275 s\n",
      "Solution 184 : Objective Value = 23100.0 Time = 426.9248632 s\n",
      "Solution 185 : Objective Value = 23090.0 Time = 439.34249680000005 s\n",
      "Solution 186 : Objective Value = 23080.0 Time = 442.26428960000004 s\n",
      "Solution 187 : Objective Value = 23065.0 Time = 442.8838703 s\n",
      "Solution 188 : Objective Value = 23060.0 Time = 446.71195570000003 s\n",
      "Solution 189 : Objective Value = 23050.0 Time = 470.92369620000005 s\n",
      "Solution 190 : Objective Value = 23040.0 Time = 497.74411740000005 s\n",
      "Solution 191 : Objective Value = 22935.0 Time = 501.438503 s\n",
      "Solution 192 : Objective Value = 22930.0 Time = 525.5485056 s\n",
      "Solution 193 : Objective Value = 22920.0 Time = 573.0613159000001 s\n",
      "Solution 194 : Objective Value = 22790.0 Time = 689.3142183 s\n",
      "Solution 195 : Objective Value = 22785.0 Time = 854.7428420000001 s\n",
      "Solution 196 : Objective Value = 22775.0 Time = 873.7252448 s\n",
      "Solution 197 : Objective Value = 22765.0 Time = 881.7511966000001 s\n",
      "Solution 198 : Objective Value = 22745.0 Time = 918.8760375 s\n",
      "Solution 199 : Objective Value = 22735.0 Time = 922.5043574 s\n",
      "Solution 200 : Objective Value = 22720.0 Time = 925.7243585000001 s\n",
      "Solution 201 : Objective Value = 22715.0 Time = 1330.3460215 s\n",
      "Solution 202 : Objective Value = 22710.0 Time = 1507.9521173 s\n",
      "Solution 203 : Objective Value = 22700.0 Time = 1519.0378369 s\n",
      "Solution 204 : Objective Value = 22695.0 Time = 2526.7773625 s\n",
      "Solution 205 : Objective Value = 22675.0 Time = 4077.6899028000003 s\n",
      "Solution 206 : Objective Value = 22670.0 Time = 4903.1353747 s\n",
      "Solution 207 : Objective Value = 22660.0 Time = 5174.383388 s\n",
      "Solution 208 : Objective Value = 22645.0 Time = 5321.7555355 s\n",
      "Solution 209 : Objective Value = 22545.0 Time = 6150.0737334000005 s\n",
      "Solution 210 : Objective Value = 22540.0 Time = 6153.2251955 s\n",
      "Solution 211 : Objective Value = 22530.0 Time = 6191.7433503 s\n",
      "Solution 212 : Objective Value = 22520.0 Time = 6564.0465196000005 s\n",
      "Solution 213 : Objective Value = 22515.0 Time = 11774.687898400001 s\n",
      "Solution 214 : Objective Value = 22505.0 Time = 11999.636024200001 s\n",
      "Solution 215 : Objective Value = 22500.0 Time = 12126.4531203 s\n"
     ]
    }
   ],
   "source": [
    "solution_printer = SolutionPrinter()\n",
    "solver = cp_model.CpSolver()\n",
    "solver.parameters.max_time_in_seconds = 18000\n",
    "status = solver.Solve(model,solution_printer)"
   ]
  },
  {
   "cell_type": "code",
   "execution_count": 49,
   "id": "eb9a78aa-b782-4117-9ed7-a438e01d5e84",
   "metadata": {},
   "outputs": [
    {
     "name": "stdout",
     "output_type": "stream",
     "text": [
      "方案 FEASIBLE\n"
     ]
    }
   ],
   "source": [
    "if status == cp_model.OPTIMAL:\n",
    "    print(\"方案 OPTIMAL\")\n",
    "elif status == cp_model.FEASIBLE:\n",
    "    print(\"方案 FEASIBLE\")\n",
    "elif status == cp_model.INFEASIBLE:\n",
    "    print(\"INFASIBLE\")\n",
    "elif status == cp_model.MODEL_INVALID:\n",
    "    print(\"MODEL_INVALID\")\n",
    "elif status == cp_model.UNKNOWN:\n",
    "    print(\"UNKNOWN\")"
   ]
  },
  {
   "cell_type": "code",
   "execution_count": 50,
   "id": "9eedab0f-ab64-4b54-8658-7b36f7aa431f",
   "metadata": {},
   "outputs": [],
   "source": [
    "# 保存结果\n",
    "\n",
    "save_course_var = {}\n",
    "if status in [cp_model.OPTIMAL,cp_model.FEASIBLE]:\n",
    "    for the_key in course_vars.keys():\n",
    "        str_key = str(the_key)\n",
    "        save_course_var[str_key] = solver.Value(course_vars[the_key])\n",
    "\n",
    "    # 将临时解写入文件\n",
    "    with open(f'course_save_var_{int(solver.ObjectiveValue())}.json', 'w') as f:\n",
    "        json.dump(save_course_var, f)\n"
   ]
  },
  {
   "cell_type": "code",
   "execution_count": 51,
   "id": "a43969a8-41bc-4f5d-92f5-3be3cfd97aae",
   "metadata": {},
   "outputs": [],
   "source": [
    "# teacher_time_vars[the_teacher, the_day, the_index] "
   ]
  },
  {
   "cell_type": "markdown",
   "id": "c76f7833-4cde-4516-a2d1-741e2a834404",
   "metadata": {},
   "source": [
    "## 6.2 抽查解信息"
   ]
  },
  {
   "cell_type": "code",
   "execution_count": 52,
   "id": "89dd9577-899c-4fa2-82d6-37353f521445",
   "metadata": {},
   "outputs": [
    {
     "name": "stdout",
     "output_type": "stream",
     "text": [
      "1\n",
      "0\n",
      "teacher_24\n"
     ]
    }
   ],
   "source": [
    "print(solver.Value(teacher_time_vars[(\"teacher_24\", 1, 6)]))\n",
    "print(solver.Value(course_vars[(2, 1, 7, \"英语\")]))\n",
    "print(map_class_subject_to_teacher[2, \"英语\"])\n",
    "# print(model.any_by_class_day_section_subject[1, 2, \"morning\", \"数学\"].value)"
   ]
  },
  {
   "cell_type": "code",
   "execution_count": 53,
   "id": "758b57c1-af06-4674-b8eb-9b718c80a75d",
   "metadata": {},
   "outputs": [],
   "source": [
    "# 班级信息x\n",
    "the_class = 2\n",
    "for the_day in all_days_indexes:\n",
    "    for the_index in all_course_indexes:\n",
    "        for the_subject in all_subjects:\n",
    "            if model.course_vars[(the_class, the_day, the_index, the_subject)].value == 1:\n",
    "                print(\n",
    "                    f\"the_class {the_class} the_day {the_day} the_index {the_index} the_subject {the_subject}\"\n",
    "                )"
   ]
  },
  {
   "cell_type": "markdown",
   "id": "0c5922e0-f6c0-4b4a-b0d5-912a2b8fb127",
   "metadata": {},
   "source": [
    "# 7. 输出到 xlsx"
   ]
  },
  {
   "cell_type": "markdown",
   "id": "18df8ca4-cc4d-47ab-a334-10e075d14504",
   "metadata": {},
   "source": [
    "## 7.1 基本设置"
   ]
  },
  {
   "cell_type": "code",
   "execution_count": 54,
   "id": "85ab336a-0aac-45a4-aaa5-ffa93906a325",
   "metadata": {},
   "outputs": [],
   "source": [
    "# 输出到 xlsx\n",
    "from copy import copy\n",
    "import numpy as np\n",
    "import pandas as pd\n",
    "from openpyxl import load_workbook"
   ]
  },
  {
   "cell_type": "code",
   "execution_count": 55,
   "id": "1950093d-f5d2-4337-ba42-a9f2e9857396",
   "metadata": {},
   "outputs": [],
   "source": [
    "def copy_sheet(source_sheet, target_sheet):\n",
    "    # 复制单元格内容和格式\n",
    "    for row in source_sheet.iter_rows():\n",
    "        for cell in row:\n",
    "            target_cell = target_sheet[cell.coordinate]\n",
    "            target_cell.value = cell.value\n",
    "            if cell.has_style:\n",
    "                target_cell._style = copy(cell._style)\n",
    "            if cell.hyperlink:\n",
    "                target_cell.hyperlink = copy(cell.hyperlink)\n",
    "            if cell.comment:\n",
    "                target_cell.comment = copy(cell.comment)\n",
    "\n",
    "    # 复制行高\n",
    "    for row, dimension in source_sheet.row_dimensions.items():\n",
    "        target_sheet.row_dimensions[row].height = dimension.height\n",
    "\n",
    "    # 复制列宽\n",
    "    for col, dimension in source_sheet.column_dimensions.items():\n",
    "        target_sheet.column_dimensions[col].width = dimension.width\n",
    "\n",
    "    # 指定所有列的宽度\n",
    "    fixed_width = 20  # 设置的宽度值\n",
    "\n",
    "    # 获取工作表的最大列数\n",
    "    max_column = target_sheet.max_column\n",
    "\n",
    "    # 遍历所有列并设置宽度\n",
    "    for col in range(1, max_column + 1):\n",
    "        col_letter = target_sheet.cell(row=1, column=col).column_letter  # 获取列字母\n",
    "        target_sheet.column_dimensions[col_letter].width = fixed_width\n",
    "\n",
    "    # 复制合并单元格\n",
    "    if source_sheet.merged_cells:\n",
    "        target_sheet.merged_cells = source_sheet.merged_cells"
   ]
  },
  {
   "cell_type": "markdown",
   "id": "6d46db9d-bbd9-4e4c-b56e-dfb3bd5a0093",
   "metadata": {},
   "source": [
    "## 7.2 输出班级课表"
   ]
  },
  {
   "cell_type": "code",
   "execution_count": 56,
   "id": "9fff66ff-af89-43dc-9b16-ba45cdb20afc",
   "metadata": {},
   "outputs": [],
   "source": [
    "# 输出班级表\n",
    "workbook_class = load_workbook(\"sample_class.xlsx\")\n",
    "map_from_index_to_row = [3, 5, 7, 8, 10, 11, 15, 16, 17, 18, 21, 22, 23, 24]\n",
    "map_from_day_to_col = [1, 2, 3, 4, 5, 6, 7, 8]\n",
    "working_teachers = []\n",
    "sample_sheet = workbook_class[\"排版\"]\n",
    "for the_class in all_class_indexes:\n",
    "    the_sheet = workbook_class.create_sheet(title=f\"高2024级{the_class}班\")\n",
    "    copy_sheet(sample_sheet, the_sheet)\n",
    "    the_sheet.cell(row=1, column=1).value = f\"高2024级{the_class}班 课表\"\n",
    "    for the_day in all_days_indexes:\n",
    "        for the_index in all_course_indexes:\n",
    "            for the_subject in all_subjects:\n",
    "                has_course = solver.Value(course_vars[\n",
    "                    (the_class, the_day, the_index, the_subject)\n",
    "                ])\n",
    "                if has_course:\n",
    "                    is_spoken = solver.Value(is_spoken_course[\n",
    "                        (the_class, the_day, the_index)\n",
    "                    ])\n",
    "                    if is_spoken == 1:\n",
    "                        content = \"口语(单周)\\n英语(双周)\"\n",
    "                    else:\n",
    "                        content = the_subject\n",
    "                    teacher = map_class_subject_to_teacher[(the_class, the_subject)]\n",
    "                    # print(f'row {row_index} col {col_index} content {content}')\n",
    "                    #                     print(f'row {the_index}')\n",
    "                    the_sheet.cell(\n",
    "                        row=map_from_index_to_row[the_index],\n",
    "                        column=map_from_day_to_col[the_day],\n",
    "                    ).value = f\"{content}\\n{teacher}\"\n",
    "                    if teacher not in working_teachers:\n",
    "                        working_teachers.append(teacher)\n",
    "workbook_class.remove(sample_sheet)\n",
    "workbook_class.save(f\"result_class_{int(solver.ObjectiveValue())}.xlsx\")"
   ]
  },
  {
   "cell_type": "markdown",
   "id": "8520192c-1062-4239-858a-b7d2e527f890",
   "metadata": {},
   "source": [
    "## 7.3 输出老师课表"
   ]
  },
  {
   "cell_type": "code",
   "execution_count": 57,
   "id": "2bfbfd69-83db-4d4c-b25d-1830de5816cf",
   "metadata": {},
   "outputs": [],
   "source": [
    "# 输出老师表\n",
    "workbook_teacher = load_workbook(\"sample_class.xlsx\")\n",
    "map_from_index_to_row = [3, 5, 7, 8, 10, 11, 15, 16, 17, 18, 21, 22, 23, 24]\n",
    "map_from_day_to_col = [1, 2, 3, 4, 5, 6, 7, 8]\n",
    "sample_sheet = workbook_teacher[\"排版\"]\n",
    "for the_teacher in working_teachers:\n",
    "    if the_teacher != \"\":\n",
    "        # print(the_teacher)\n",
    "        the_sheet = workbook_teacher.create_sheet(title=f\"{the_teacher}\")\n",
    "        copy_sheet(sample_sheet, the_sheet)\n",
    "        the_sheet.cell(row=1, column=1).value = f\"{the_teacher} 课表\"\n",
    "        for the_day in all_days_indexes:\n",
    "            for the_index in all_course_indexes:\n",
    "                # 教研\n",
    "                for the_subject, the_times in teachers_duties[the_teacher].items():\n",
    "                    the_jiaoyan_day_section = jiaoyan_day_section.get(the_subject, None)\n",
    "                    if (\n",
    "                        the_jiaoyan_day_section != None\n",
    "                        and the_day == the_jiaoyan_day_section[0]\n",
    "                        and the_index in indexes_by_section[the_jiaoyan_day_section[1]]\n",
    "                    ):\n",
    "                        the_sheet.cell(\n",
    "                            row=map_from_index_to_row[the_index],\n",
    "                            column=map_from_day_to_col[the_day],\n",
    "                        ).value = f\"{the_subject}教研\\n{the_teacher}\"\n",
    "                # 其他课\n",
    "                for the_class in all_class_indexes:\n",
    "                    for the_subject in all_subjects:\n",
    "                        has_course = solver.Value(course_vars[\n",
    "                            (the_class, the_day, the_index, the_subject)\n",
    "                        ])\n",
    "                        if (\n",
    "                            has_course == 1\n",
    "                            and map_class_subject_to_teacher[(the_class, the_subject)]\n",
    "                            == the_teacher\n",
    "                        ):\n",
    "                            is_spoken = solver.Value(is_spoken_course[\n",
    "                                (the_class, the_day, the_index)\n",
    "                            ])\n",
    "                            if is_spoken == 1:\n",
    "                                content = \"口语(单周)\\n英语(双周)\"\n",
    "                            else:\n",
    "                                content = the_subject\n",
    "                            the_sheet.cell(\n",
    "                                row=map_from_index_to_row[the_index],\n",
    "                                column=map_from_day_to_col[the_day],\n",
    "                            ).value = f\"{content}\\n{the_class}班\\n{the_teacher}\"\n",
    "\n",
    "# 单独输出口语sheet\n",
    "the_sheet = workbook_teacher.create_sheet(title=\"口语\")\n",
    "copy_sheet(sample_sheet, the_sheet)\n",
    "for the_day in all_days_indexes:\n",
    "    for the_index in all_course_indexes:\n",
    "        for the_class in all_class_indexes:\n",
    "            is_spoken = solver.Value(is_spoken_course[(the_class, the_day, the_index)])\n",
    "            if is_spoken == 1:\n",
    "                content = \"口语(单周)\"\n",
    "                the_sheet.cell(\n",
    "                    row=map_from_index_to_row[the_index],\n",
    "                    column=map_from_day_to_col[the_day],\n",
    "                ).value = f\"{content}\\n{the_class}班\"\n",
    "workbook_teacher.remove(sample_sheet)\n",
    "workbook_teacher.save(f\"result_teacher_{int(solver.ObjectiveValue())}.xlsx\")"
   ]
  },
  {
   "cell_type": "code",
   "execution_count": 58,
   "id": "a8b1856c-fd70-4220-a6df-5b4241c1ecc4",
   "metadata": {},
   "outputs": [],
   "source": [
    "# jiaoyan_day_section = {\n",
    "#     \"语文\": (4, \"afternoon\"),\n",
    "#     \"数学\": (3, \"morning\"),\n",
    "#     \"英语\": (1, \"afternoon\"),\n",
    "#     \"物理\": (4, \"afternoon\"),\n",
    "#     \"化学\": (2, \"morning\"),\n",
    "#     \"生物\": (2, \"morning\"),\n",
    "#     \"政治\": (5, \"morning\"),\n",
    "#     \"历史\": (5, \"morning\"),\n",
    "#     \"地理\": (4, \"afternoon\"),\n",
    "#     \"体育\": (1, \"morning\"),\n",
    "#     \"音乐\": (1, \"morning\"),\n",
    "#     \"美术\": (1, \"morning\"),\n",
    "#     \"心理\": (1, \"morning\"),\n",
    "# }"
   ]
  }
 ],
 "metadata": {
  "kernelspec": {
   "display_name": "Python 3 (ipykernel)",
   "language": "python",
   "name": "python3"
  },
  "language_info": {
   "codemirror_mode": {
    "name": "ipython",
    "version": 3
   },
   "file_extension": ".py",
   "mimetype": "text/x-python",
   "name": "python",
   "nbconvert_exporter": "python",
   "pygments_lexer": "ipython3",
   "version": "3.11.9"
  }
 },
 "nbformat": 4,
 "nbformat_minor": 5
}
